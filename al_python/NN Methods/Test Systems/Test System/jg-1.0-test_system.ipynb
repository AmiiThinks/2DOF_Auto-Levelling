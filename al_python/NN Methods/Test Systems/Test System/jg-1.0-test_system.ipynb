{
 "cells": [
  {
   "cell_type": "markdown",
   "metadata": {},
   "source": [
    "https://www.sciencedirect.com/science/article/pii/S1474667017382836"
   ]
  },
  {
   "cell_type": "markdown",
   "metadata": {},
   "source": [
    "Using neural network and FOPDT model to estimate plant.\n",
    "Then using FOPDT parameters tune the PID"
   ]
  },
  {
   "cell_type": "code",
   "execution_count": 1,
   "metadata": {},
   "outputs": [],
   "source": [
    "import numpy as np\n",
    "from scipy import signal\n",
    "import matplotlib.pyplot as plt\n",
    "from scipy.integrate import odeint\n",
    "import math\n",
    "import tensorflow as tf\n",
    "from tensorflow.python.framework import ops"
   ]
  },
  {
   "cell_type": "code",
   "execution_count": 2,
   "metadata": {},
   "outputs": [],
   "source": [
    "d_t = 0.01\n",
    "d_t_decimal = str(d_t)[::-1].find('.')\n",
    "steps = 3000\n",
    "\n",
    "class PID:\n",
    "    def __init__(self, Kp=0, Ki=0, Kd=0):\n",
    "        self.Kp = Kp\n",
    "        self.Ki = Ki\n",
    "        self.Kd = Kd\n",
    "        self.I_max = 5\n",
    "        self.e_prev = 0\n",
    "        self.t_prev = 0\n",
    "        self.P = 0\n",
    "        self.I = 0\n",
    "        self.D = 0\n",
    "        self.u = 0\n",
    "        \n",
    "    def update(self, e, t):\n",
    "        delta_time = t - self.t_prev\n",
    "        delta_error = e - self.e_prev\n",
    "        \n",
    "        self.P = e\n",
    "        \n",
    "        self.I += e * delta_time\n",
    "\n",
    "        if (self.I < -self.I_max):\n",
    "            self.I = -self.I_max\n",
    "        elif (self.I > self.I_max):\n",
    "            self.I = self.I_max\n",
    "\n",
    "        if delta_time > 0:\n",
    "            self.D = delta_error / delta_time\n",
    "        else:\n",
    "            self.D = 0\n",
    "\n",
    "        self.t_prev = t\n",
    "        self.e_prev = e\n",
    "\n",
    "        self.u = self.Kp * self.P + self.Ki * self.I + self.Kd * self.D\n",
    "        \n",
    "    def get_u(self):\n",
    "        return self.u\n",
    "    \n",
    "    def update_gains(self, K, tau, T):\n",
    "        #658.PDF\n",
    "        a1=1.086\n",
    "        b1=-0.869\n",
    "        a2=0.740\n",
    "        b2=-0.130\n",
    "        a3=0.348\n",
    "        b3=0.914\n",
    "        \n",
    "        weight = 1.0\n",
    "        try:\n",
    "            delta_Kp = a1/K*(T/tau)**b1\n",
    "        except ZeroDivisionError as e:\n",
    "            delta_Kp = 0   \n",
    "        try:\n",
    "            delta_Ki = tau/(a2+b2*(T/tau))\n",
    "        except ZeroDivisionError as e:\n",
    "            delta_Ki = 0\n",
    "        try:\n",
    "            delta_Kd = a3*tau*(T/tau)**b3\n",
    "        except ZeroDivisionError as e:\n",
    "            delta_Kd = 0\n",
    "        \n",
    "        self.Kp = self.Kp * (1-weight) + delta_Kp * weight\n",
    "        self.Ki = self.Ki * (1-weight) + delta_Ki * weight\n",
    "        self.Kd = self.Kd * (1-weight) + delta_Kd * weight\n",
    "  "
   ]
  },
  {
   "cell_type": "code",
   "execution_count": 3,
   "metadata": {},
   "outputs": [],
   "source": [
    "class FOPDT_Model:\n",
    "    def __init__(self, K, tau, T):\n",
    "        self.K = K\n",
    "        self.tau = tau\n",
    "        self.T = T\n",
    "        \n",
    "        self.y_0 = 0\n",
    "        self.t1 = 0\n",
    "        self.t2 = 0\n",
    "        self.u = np.empty\n",
    "        self.T_prev = 0\n",
    "    \n",
    "        #Records for visualization\n",
    "        self.K_gr = []\n",
    "        self.tau_gr = []\n",
    "        self.T_gr = []\n",
    "        self.K_r = []\n",
    "        self.tau_r = []\n",
    "        self.T_r = []\n",
    "        \n",
    "    def check_nan(self, K, tau, T):\n",
    "        if np.isnan(K):\n",
    "            K = 0\n",
    "#             print(\"K is nan\")\n",
    "        if np.isnan(tau):\n",
    "            tau = 0\n",
    "#             print(\"tau is nan\")\n",
    "        if np.isnan(T):\n",
    "            T = 0\n",
    "        return K, tau, T\n",
    "        \n",
    "    def model_process(self, y, t, K, tau, T):\n",
    "        u_delay = self.get_u_prev(t, T)\n",
    "        dydt = (-y + K * u_delay)/tau\n",
    "        return dydt\n",
    "    \n",
    "    def model(self, K, tau, T):\n",
    "        #K: gain\n",
    "        #tau: time constant\n",
    "        #T: delay\n",
    "        K, tau, T = self.check_nan(K, tau, T)\n",
    "        self.K = K\n",
    "        self.tau = tau\n",
    "        self.T = T\n",
    "        \n",
    "        self.K_r.append(K)\n",
    "        self.tau_r.append(tau)\n",
    "        self.T_r.append(T)\n",
    "        \n",
    "        ts = [self.t1, self.t2]\n",
    "        return odeint(self.model_process, self.y_0, ts, args=(K, tau, T))[1].astype(np.float32)\n",
    "    \n",
    "    def d_model(self, K, tau, T):\n",
    "        K, tau, T = self.check_nan(K, tau, T)\n",
    "\n",
    "        T1 = self.T_prev\n",
    "        T2 = T\n",
    "        delta_t = self.t2 - self.t1\n",
    "        delta_T = T2 - T1\n",
    "        u_T1 = self.get_u_prev(self.t2, T1)\n",
    "        u_T2 = self.get_u_prev(self.t2, T2)\n",
    "        \n",
    "        dydK = delta_t * u_T2/(tau + delta_t)\n",
    "        dydK = dydK.astype(np.float32)\n",
    "        \n",
    "        dydtau = (-delta_t*K*u_T2 + delta_t*self.y_0)/(tau + delta_t)**2\n",
    "        dydtau = dydtau.astype(np.float32)\n",
    "        if delta_T == 0:\n",
    "            dydT = np.float32(0)\n",
    "        else:\n",
    "            dydT = delta_t * K * (u_T2 - u_T1)/(delta_T)\n",
    "            dydT = dydT.astype(np.float32)\n",
    "        \n",
    "        self.K_gr.append(dydK)\n",
    "        self.tau_gr.append(dydtau)\n",
    "        self.T_gr.append(dydT)\n",
    "        return dydK, dydtau, dydT\n",
    "    \n",
    "    def set_state(self, y_0, t1, t2, u, T_prev):\n",
    "        self.y_0 = y_0\n",
    "        self.t1 = t1\n",
    "        self.t2 = t2\n",
    "        self.u = u\n",
    "        self.T_prev = T_prev\n",
    "        \n",
    "    def get_u_prev(self, t, T):\n",
    "        t_delay = round(t-T, d_t_decimal)\n",
    "        if (t_delay<= 0) or (t_delay<0.0):\n",
    "            return self.u[0]\n",
    "        else:\n",
    "            step_t = int(t_delay/d_t)-1\n",
    "            if step_t >= steps:\n",
    "                return self.u[-1]\n",
    "            else: \n",
    "                return self.u[step_t]  \n",
    "            \n",
    "    def get_K(self):\n",
    "        return self.K\n",
    "    \n",
    "    def get_tau(self):\n",
    "        return self.tau\n",
    "    \n",
    "    def get_T(self):\n",
    "        return self.T\n",
    "\n",
    "def plant_process(y, t, u):\n",
    "    K = 0.01\n",
    "    tau = 1.0\n",
    "    T = 0.2\n",
    "    \n",
    "    t_delay = round(t-T, d_t_decimal)\n",
    "    if (t_delay<= 0) or (t_delay<0.0):\n",
    "        u_delay = u[0]\n",
    "    else:\n",
    "        step_t = int(t_delay/d_t)-1\n",
    "        if step_t >= steps:\n",
    "            u_delay = u[-1]\n",
    "        else: \n",
    "            u_delay = u[step_t]  \n",
    "        \n",
    "    dydt = (-y + K*u_delay)/tau\n",
    "    return dydt\n",
    "\n",
    "def plant(y_0, t1, t2, u):\n",
    "    ts = [t1, t2]\n",
    "    return odeint(plant_process, y_0, ts, args=(u,))[1]\n"
   ]
  },
  {
   "cell_type": "code",
   "execution_count": 8,
   "metadata": {},
   "outputs": [],
   "source": [
    "interval = 500\n",
    "r_steps = steps//interval\n",
    "\n",
    "r_sq = np.zeros(steps)\n",
    "up = 0\n",
    "\n",
    "for i in range(r_steps):\n",
    "    if i < r_steps-1:\n",
    "        r_sq[i * interval:(i+1)*interval] = up\n",
    "    else:\n",
    "        r_sq[i * interval:] = up\n",
    "    if up:\n",
    "        up = 0.0\n",
    "    else:\n",
    "        up = 1.0\n",
    "\n",
    "t = np.linspace(0, d_t*steps, steps)\n",
    "r_sin = np.sin(t)"
   ]
  },
  {
   "cell_type": "markdown",
   "metadata": {},
   "source": [
    "### Plant control with neural network"
   ]
  },
  {
   "cell_type": "code",
   "execution_count": 8,
   "metadata": {
    "scrolled": true
   },
   "outputs": [],
   "source": [
    "hidden_layer_size = 8\n",
    "\n",
    "\n",
    "\n",
    "# initial values\n",
    "K = 0.01 #gain\n",
    "tau = 1.0 #time constant\n",
    "T = 0.2 #delay\n",
    "T_prev = 0.2\n",
    "\n",
    "fopdt = FOPDT_Model(K, tau, T)\n",
    "\n",
    "np_model_32 = np.vectorize(fopdt.model)\n",
    "np_d_model_32 = np.vectorize(fopdt.d_model)\n",
    "\n",
    "def tf_d_model(K, tau, T,name=None):\n",
    "    with tf.name_scope(name, \"d_model\", [K, tau, T]) as name:\n",
    "        y = tf.py_func(np_d_model_32,\n",
    "                        [K, tau, T],\n",
    "                        (tf.float32, tf.float32, tf.float32),\n",
    "                        name=name,\n",
    "                        stateful=False)\n",
    "        return y\n",
    "\n",
    "def py_func(func, inp, Tout, stateful=True, name=None, grad=None):\n",
    "\n",
    "    # Need to generate a unique name to avoid duplicates:\n",
    "    rnd_name = 'PyFuncGrad' + str(np.random.randint(0, 1E+8))\n",
    "\n",
    "    tf.RegisterGradient(rnd_name)(grad)  # see _MySquareGrad for grad example\n",
    "    g = tf.get_default_graph()\n",
    "    with g.gradient_override_map({\"PyFunc\": rnd_name}):\n",
    "        return tf.py_func(func, inp, Tout, stateful=stateful, name=name)\n",
    "    \n",
    "def modelgrad(op, grad):\n",
    "    K, tau, T = op.inputs\n",
    "    \n",
    "    dydK, dydtau, dydT = tf_d_model(K, tau, T)\n",
    "#     gradient = tf.concat([], 0)\n",
    "    return grad * dydK, grad * dydtau, grad * dydT\n",
    "\n",
    "\n",
    "def tf_model(K, tau, T, name=None):\n",
    "\n",
    "    with tf.name_scope(name, \"model\", [K, tau, T]) as name:\n",
    "        y = py_func(np_model_32,\n",
    "                        [K, tau, T],\n",
    "                        [tf.float32],\n",
    "                        name=name,\n",
    "                        grad=modelgrad)  # <-- here's the call to the gradient\n",
    "        return y[0]\n",
    "    \n",
    "graph = tf.Graph()\n",
    "with graph.as_default():\n",
    "    \n",
    "    # Placeholder will be fed data at run time with a training minibatch\n",
    "\n",
    "    tf_u = tf.placeholder(tf.float32,shape=())\n",
    "    tf_y_plant = tf.placeholder(tf.float32,shape=())\n",
    "    tf_learning_rate = tf.placeholder(tf.float32, shape=())\n",
    "    \n",
    "    \n",
    "    # Input (1) -> Hidden layer (8)\n",
    "    # Truncated normal randomly initialize weights using a truncated normal distr\n",
    "    w1 = tf.Variable(tf.truncated_normal([1, hidden_layer_size]))\n",
    "    b1 = tf.Variable(tf.ones([hidden_layer_size]))\n",
    "    \n",
    "    # Hidden layer (8) -> Output (3)\n",
    "    w2 = tf.Variable(tf.truncated_normal([hidden_layer_size, 3]))\n",
    "    b2 = tf.Variable(tf.ones([3]))\n",
    "\n",
    "    # Forward prop\n",
    "    z2 = tf.matmul(tf.reshape(tf_u, (1, 1)), w1) + b1\n",
    "    a2 = tf.nn.relu(z2)\n",
    "    params = tf.matmul(a2, w2) + b2\n",
    "    K, tau, T = tf.split(params, 3, 1)\n",
    "    \n",
    "    # Params should be positive\n",
    "    K = tf.math.abs(K)\n",
    "    tau = tf.math.abs(tau)\n",
    "    T = tf.math.abs(T)\n",
    "\n",
    "    y_model = tf_model(K, tau, T)\n",
    "\n",
    "    \n",
    "#     # Loss = y of plant - y of model\n",
    "    loss = tf.losses.mean_squared_error(tf_y_plant, y_model)\n",
    "\n",
    "    \n",
    "    optimizer = tf.train.AdamOptimizer(tf_learning_rate).minimize(loss)\n",
    "\n",
    "    "
   ]
  },
  {
   "cell_type": "code",
   "execution_count": 9,
   "metadata": {
    "scrolled": false
   },
   "outputs": [
    {
     "name": "stdout",
     "output_type": "stream",
     "text": [
      "0.0, "
     ]
    },
    {
     "name": "stderr",
     "output_type": "stream",
     "text": [
      "/Users/james/envs/slw/lib/python3.7/site-packages/ipykernel_launcher.py:34: RuntimeWarning: divide by zero encountered in true_divide\n"
     ]
    },
    {
     "name": "stdout",
     "output_type": "stream",
     "text": [
      "nan, nan, nan, nan, "
     ]
    },
    {
     "data": {
      "image/png": "[encoded data removed]",
      "text/plain": [
       "<Figure size 432x288 with 1 Axes>"
      ]
     },
     "metadata": {
      "needs_background": "light"
     },
     "output_type": "display_data"
    }
   ],
   "source": [
    "y_0 = 0\n",
    "y = np.zeros(steps)\n",
    "y_m = np.zeros(steps)\n",
    "u = np.zeros(steps)\n",
    "\n",
    "learning_rate = 0.1\n",
    "\n",
    "\n",
    "pid = PID(439, 1.4, 0.08)\n",
    "\n",
    "r = r_sq\n",
    "\n",
    "with tf.Session(graph=graph) as session:\n",
    "    tf.global_variables_initializer().run()\n",
    "    for i in range(len(t))[1:]:  \n",
    "        \n",
    "        e = r[i] - y[i-1]\n",
    "        t_prev = t[i-1]\n",
    "        t_cur = t[i]\n",
    "        pid.update(e, t_cur)\n",
    "        u[i] = pid.get_u()\n",
    "        y[i] = plant(y_0, t_prev, t_cur, u)\n",
    "\n",
    "        fopdt.set_state(y_0, t_prev, t_cur, u, T_prev)\n",
    "       \n",
    "        feed_dict = {tf_u:u[i], tf_y_plant:y[i], tf_learning_rate:learning_rate}\n",
    "\n",
    "        _, l, y_m[i] = session.run([optimizer, loss, y_model], feed_dict=feed_dict)\n",
    "        if i % 500 == 0:\n",
    "            print(str(l) + ', ', end='')\n",
    "\n",
    "        T_prev = fopdt.get_T()\n",
    "        pid.update_gains(fopdt.get_K(), fopdt.get_tau(), fopdt.get_T())\n",
    "\n",
    "        y_0 = y[i]\n",
    "\n",
    "plt.plot(t, r)\n",
    "plt.plot(t, y)\n",
    "plt.plot(t, y_m)\n",
    "plt.legend(('Command', 'Plant', 'Model', 'Control'))\n",
    "plt.show()"
   ]
  },
  {
   "cell_type": "code",
   "execution_count": 10,
   "metadata": {
    "scrolled": true
   },
   "outputs": [
    {
     "data": {
      "text/plain": [
       "<matplotlib.legend.Legend at 0x128395390>"
      ]
     },
     "execution_count": 10,
     "metadata": {},
     "output_type": "execute_result"
    },
    {
     "data": {
      "image/png": "[encoded data removed]",
      "text/plain": [
       "<Figure size 432x288 with 1 Axes>"
      ]
     },
     "metadata": {
      "needs_background": "light"
     },
     "output_type": "display_data"
    }
   ],
   "source": [
    "plt.plot(fopdt.K_r)\n",
    "plt.plot(fopdt.tau_r)\n",
    "plt.plot(fopdt.T_r)\n",
    "plt.legend(('K', 'tau', 'T'))"
   ]
  },
  {
   "cell_type": "code",
   "execution_count": 11,
   "metadata": {},
   "outputs": [
    {
     "data": {
      "text/plain": [
       "<matplotlib.legend.Legend at 0x12858c7f0>"
      ]
     },
     "execution_count": 11,
     "metadata": {},
     "output_type": "execute_result"
    },
    {
     "data": {
      "image/png": "[encoded data removed]",
      "text/plain": [
       "<Figure size 432x288 with 1 Axes>"
      ]
     },
     "metadata": {
      "needs_background": "light"
     },
     "output_type": "display_data"
    }
   ],
   "source": [
    "plt.plot(fopdt.K_gr)\n",
    "plt.plot(fopdt.tau_gr)\n",
    "plt.plot(fopdt.T_gr)\n",
    "plt.legend(('K', 'tau', 'T'))"
   ]
  },
  {
   "cell_type": "code",
   "execution_count": 12,
   "metadata": {},
   "outputs": [
    {
     "name": "stdout",
     "output_type": "stream",
     "text": [
      "0 0 0\n"
     ]
    }
   ],
   "source": [
    "print(fopdt.get_K(), fopdt.get_tau(), fopdt.get_T())"
   ]
  },
  {
   "cell_type": "code",
   "execution_count": 6,
   "metadata": {},
   "outputs": [],
   "source": [
    "def run_test(r):\n",
    "    y_m_0 = 0\n",
    "    y_m = np.zeros(steps)\n",
    "    y_grad_m = np.zeros(steps)\n",
    "    u = np.zeros(steps)\n",
    "\n",
    "    K = 0.05 #gain\n",
    "    tau = 2.0 #time constant\n",
    "    T = 0.1 #delay\n",
    "    T_prev = 0\n",
    "\n",
    "    pid = PID()\n",
    "    pid.update_gains(K, tau, T)\n",
    "\n",
    "    fopdt = FOPDT_Model(K, tau, T)\n",
    "\n",
    "    for i in range(len(t))[1:]:  \n",
    "        e = r[i] - y_m[i-1]\n",
    "        t_prev = t[i-1]\n",
    "        t_cur = t[i]\n",
    "\n",
    "\n",
    "        pid.update(e, t_cur)\n",
    "        u[i] = pid.get_u()\n",
    "        \n",
    "        fopdt.set_state(y_m_0, t_prev, t_cur, u, T_prev)\n",
    "        y_m[i] = fopdt.model(K, tau, T)\n",
    "        y_grad_m[i] = fopdt.d_model(K, tau, T)[2]\n",
    "\n",
    "        y_m_0 = y_m[i]\n",
    "\n",
    "    plt.plot(t, r)\n",
    "    plt.plot(t, y_m, color='green')\n",
    "    plt.plot(t, y_grad_m)\n",
    "    plt.legend(('Command', 'Model', 'Grad'))\n",
    "    plt.show()"
   ]
  },
  {
   "cell_type": "markdown",
   "metadata": {},
   "source": [
    "### Tracking for FOPDT model on sinusoidal input using ZN tuning method"
   ]
  },
  {
   "cell_type": "code",
   "execution_count": 14,
   "metadata": {
    "scrolled": true
   },
   "outputs": [
    {
     "data": {
      "image/png": "[encoded data removed]",
      "text/plain": [
       "<Figure size 432x288 with 1 Axes>"
      ]
     },
     "metadata": {
      "needs_background": "light"
     },
     "output_type": "display_data"
    }
   ],
   "source": [
    "run_test(r_sin)"
   ]
  },
  {
   "cell_type": "markdown",
   "metadata": {},
   "source": [
    "### Tracking for FOPDT model on sinusoidal input using ZN tuning method"
   ]
  },
  {
   "cell_type": "code",
   "execution_count": 9,
   "metadata": {},
   "outputs": [
    {
     "data": {
      "image/png": "[encoded data removed]",
      "text/plain": [
       "<Figure size 432x288 with 1 Axes>"
      ]
     },
     "metadata": {
      "needs_background": "light"
     },
     "output_type": "display_data"
    }
   ],
   "source": [
    "run_test(r_sq)"
   ]
  }
 ],
 "metadata": {
  "kernelspec": {
   "display_name": "Python 3",
   "language": "python",
   "name": "python3"
  },
  "language_info": {
   "codemirror_mode": {
    "name": "ipython",
    "version": 3
   },
   "file_extension": ".py",
   "mimetype": "text/x-python",
   "name": "python",
   "nbconvert_exporter": "python",
   "pygments_lexer": "ipython3",
   "version": "3.7.3"
  }
 },
 "nbformat": 4,
 "nbformat_minor": 2
}
