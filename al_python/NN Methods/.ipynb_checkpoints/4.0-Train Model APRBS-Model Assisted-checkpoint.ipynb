{
 "cells": [
  {
   "cell_type": "code",
   "execution_count": 1,
   "metadata": {},
   "outputs": [],
   "source": [
    "#Using APRBS with a 180 degree peak to peak and mathematical model."
   ]
  },
  {
   "cell_type": "code",
   "execution_count": 2,
   "metadata": {},
   "outputs": [],
   "source": [
    "from tensorflow.keras import Sequential\n",
    "from tensorflow.keras.layers import Dense, LSTM\n",
    "from tensorflow.keras.optimizers import Adam\n",
    "import pandas as pd\n",
    "import numpy as np\n",
    "import math\n",
    "from simulation_tools import PRBS\n",
    "from simulation_tools import Servo\n",
    "from matplotlib import pyplot as plt\n",
    "from sklearn.metrics import mean_squared_error\n",
    "import pickle as pkl\n",
    "from scipy.integrate import odeint"
   ]
  },
  {
   "cell_type": "code",
   "execution_count": 3,
   "metadata": {
    "scrolled": true
   },
   "outputs": [
    {
     "data": {
      "text/html": [
       "<div>\n",
       "<style scoped>\n",
       "    .dataframe tbody tr th:only-of-type {\n",
       "        vertical-align: middle;\n",
       "    }\n",
       "\n",
       "    .dataframe tbody tr th {\n",
       "        vertical-align: top;\n",
       "    }\n",
       "\n",
       "    .dataframe thead th {\n",
       "        text-align: right;\n",
       "    }\n",
       "</style>\n",
       "<table border=\"1\" class=\"dataframe\">\n",
       "  <thead>\n",
       "    <tr style=\"text-align: right;\">\n",
       "      <th></th>\n",
       "      <th>rot_command</th>\n",
       "      <th>flex_command</th>\n",
       "      <th>rot_cur_pos</th>\n",
       "      <th>flex_cur_pos</th>\n",
       "      <th>rot_next_pos</th>\n",
       "      <th>flex_next_pos</th>\n",
       "      <th>rot_cur_vel</th>\n",
       "      <th>flex_cur_vel</th>\n",
       "      <th>rot_next_vel</th>\n",
       "      <th>flex_next_vel</th>\n",
       "    </tr>\n",
       "  </thead>\n",
       "  <tbody>\n",
       "    <tr>\n",
       "      <th>0</th>\n",
       "      <td>-3.141593</td>\n",
       "      <td>-3.141593</td>\n",
       "      <td>0.003068</td>\n",
       "      <td>-0.012272</td>\n",
       "      <td>0.003068</td>\n",
       "      <td>-0.012272</td>\n",
       "      <td>-1.570796</td>\n",
       "      <td>-1.570796</td>\n",
       "      <td>-1.570796</td>\n",
       "      <td>-1.570796</td>\n",
       "    </tr>\n",
       "    <tr>\n",
       "      <th>1</th>\n",
       "      <td>-1.216447</td>\n",
       "      <td>1.420466</td>\n",
       "      <td>0.003068</td>\n",
       "      <td>-0.012272</td>\n",
       "      <td>0.003068</td>\n",
       "      <td>-0.012272</td>\n",
       "      <td>-1.570796</td>\n",
       "      <td>-1.570796</td>\n",
       "      <td>-1.570796</td>\n",
       "      <td>-1.558524</td>\n",
       "    </tr>\n",
       "    <tr>\n",
       "      <th>2</th>\n",
       "      <td>-1.216447</td>\n",
       "      <td>1.420466</td>\n",
       "      <td>0.003068</td>\n",
       "      <td>-0.012272</td>\n",
       "      <td>-0.006136</td>\n",
       "      <td>-0.003068</td>\n",
       "      <td>-1.570796</td>\n",
       "      <td>-1.558524</td>\n",
       "      <td>0.061359</td>\n",
       "      <td>-1.515573</td>\n",
       "    </tr>\n",
       "    <tr>\n",
       "      <th>3</th>\n",
       "      <td>-1.216447</td>\n",
       "      <td>1.420466</td>\n",
       "      <td>-0.006136</td>\n",
       "      <td>-0.003068</td>\n",
       "      <td>-0.026078</td>\n",
       "      <td>0.013806</td>\n",
       "      <td>0.061359</td>\n",
       "      <td>-1.515573</td>\n",
       "      <td>0.147262</td>\n",
       "      <td>-1.441942</td>\n",
       "    </tr>\n",
       "    <tr>\n",
       "      <th>4</th>\n",
       "      <td>-1.216447</td>\n",
       "      <td>1.420466</td>\n",
       "      <td>-0.026078</td>\n",
       "      <td>0.013806</td>\n",
       "      <td>-0.049087</td>\n",
       "      <td>0.033748</td>\n",
       "      <td>0.147262</td>\n",
       "      <td>-1.441942</td>\n",
       "      <td>0.245437</td>\n",
       "      <td>-1.356039</td>\n",
       "    </tr>\n",
       "  </tbody>\n",
       "</table>\n",
       "</div>"
      ],
      "text/plain": [
       "   rot_command  flex_command  rot_cur_pos  flex_cur_pos  rot_next_pos  \\\n",
       "0    -3.141593     -3.141593     0.003068     -0.012272      0.003068   \n",
       "1    -1.216447      1.420466     0.003068     -0.012272      0.003068   \n",
       "2    -1.216447      1.420466     0.003068     -0.012272     -0.006136   \n",
       "3    -1.216447      1.420466    -0.006136     -0.003068     -0.026078   \n",
       "4    -1.216447      1.420466    -0.026078      0.013806     -0.049087   \n",
       "\n",
       "   flex_next_pos  rot_cur_vel  flex_cur_vel  rot_next_vel  flex_next_vel  \n",
       "0      -0.012272    -1.570796     -1.570796     -1.570796      -1.570796  \n",
       "1      -0.012272    -1.570796     -1.570796     -1.570796      -1.558524  \n",
       "2      -0.003068    -1.570796     -1.558524      0.061359      -1.515573  \n",
       "3       0.013806     0.061359     -1.515573      0.147262      -1.441942  \n",
       "4       0.033748     0.147262     -1.441942      0.245437      -1.356039  "
      ]
     },
     "execution_count": 3,
     "metadata": {},
     "output_type": "execute_result"
    }
   ],
   "source": [
    "df = pd.read_csv('aprbs_180ptp_2dof_log.txt')\n",
    "df = df.drop(['timestamp'], axis=1)\n",
    "#Centre positions at 0\n",
    "df[['rot_command', 'flex_command', 'rot_cur_pos', \n",
    "    'flex_cur_pos','rot_next_pos', 'flex_next_pos']] = df[['rot_command', 'flex_command', \n",
    "                                                           'rot_cur_pos', 'flex_cur_pos', \n",
    "                                                           'rot_next_pos', 'flex_next_pos']] - 2048\n",
    "\n",
    "#Centre velocities at 0\n",
    "df[['rot_cur_vel', 'flex_cur_vel', \n",
    "    'rot_next_vel', 'flex_next_vel']] = df[['rot_cur_vel', 'flex_cur_vel', 'rot_next_vel', 'flex_next_vel']] - 1024\n",
    "#Convert to radians\n",
    "df = df * 2 * math.pi/4096\n",
    "df.head()"
   ]
  },
  {
   "cell_type": "code",
   "execution_count": 4,
   "metadata": {},
   "outputs": [],
   "source": [
    "X = df[['rot_command', 'flex_command', 'rot_cur_pos', 'flex_cur_pos', 'rot_cur_vel', 'flex_cur_vel']]\n",
    "y = df[['rot_next_pos', 'flex_next_pos', 'rot_next_vel', 'flex_next_vel']]"
   ]
  },
  {
   "cell_type": "code",
   "execution_count": 5,
   "metadata": {},
   "outputs": [
    {
     "data": {
      "text/html": [
       "<div>\n",
       "<style scoped>\n",
       "    .dataframe tbody tr th:only-of-type {\n",
       "        vertical-align: middle;\n",
       "    }\n",
       "\n",
       "    .dataframe tbody tr th {\n",
       "        vertical-align: top;\n",
       "    }\n",
       "\n",
       "    .dataframe thead th {\n",
       "        text-align: right;\n",
       "    }\n",
       "</style>\n",
       "<table border=\"1\" class=\"dataframe\">\n",
       "  <thead>\n",
       "    <tr style=\"text-align: right;\">\n",
       "      <th></th>\n",
       "      <th>rot_command</th>\n",
       "      <th>flex_command</th>\n",
       "      <th>rot_cur_pos</th>\n",
       "      <th>flex_cur_pos</th>\n",
       "      <th>rot_cur_vel</th>\n",
       "      <th>flex_cur_vel</th>\n",
       "    </tr>\n",
       "  </thead>\n",
       "  <tbody>\n",
       "    <tr>\n",
       "      <th>0</th>\n",
       "      <td>-3.141593</td>\n",
       "      <td>-3.141593</td>\n",
       "      <td>0.003068</td>\n",
       "      <td>-0.012272</td>\n",
       "      <td>-1.570796</td>\n",
       "      <td>-1.570796</td>\n",
       "    </tr>\n",
       "    <tr>\n",
       "      <th>1</th>\n",
       "      <td>-1.216447</td>\n",
       "      <td>1.420466</td>\n",
       "      <td>0.003068</td>\n",
       "      <td>-0.012272</td>\n",
       "      <td>-1.570796</td>\n",
       "      <td>-1.570796</td>\n",
       "    </tr>\n",
       "    <tr>\n",
       "      <th>2</th>\n",
       "      <td>-1.216447</td>\n",
       "      <td>1.420466</td>\n",
       "      <td>0.003068</td>\n",
       "      <td>-0.012272</td>\n",
       "      <td>-1.570796</td>\n",
       "      <td>-1.558524</td>\n",
       "    </tr>\n",
       "    <tr>\n",
       "      <th>3</th>\n",
       "      <td>-1.216447</td>\n",
       "      <td>1.420466</td>\n",
       "      <td>-0.006136</td>\n",
       "      <td>-0.003068</td>\n",
       "      <td>0.061359</td>\n",
       "      <td>-1.515573</td>\n",
       "    </tr>\n",
       "    <tr>\n",
       "      <th>4</th>\n",
       "      <td>-1.216447</td>\n",
       "      <td>1.420466</td>\n",
       "      <td>-0.026078</td>\n",
       "      <td>0.013806</td>\n",
       "      <td>0.147262</td>\n",
       "      <td>-1.441942</td>\n",
       "    </tr>\n",
       "  </tbody>\n",
       "</table>\n",
       "</div>"
      ],
      "text/plain": [
       "   rot_command  flex_command  rot_cur_pos  flex_cur_pos  rot_cur_vel  \\\n",
       "0    -3.141593     -3.141593     0.003068     -0.012272    -1.570796   \n",
       "1    -1.216447      1.420466     0.003068     -0.012272    -1.570796   \n",
       "2    -1.216447      1.420466     0.003068     -0.012272    -1.570796   \n",
       "3    -1.216447      1.420466    -0.006136     -0.003068     0.061359   \n",
       "4    -1.216447      1.420466    -0.026078      0.013806     0.147262   \n",
       "\n",
       "   flex_cur_vel  \n",
       "0     -1.570796  \n",
       "1     -1.570796  \n",
       "2     -1.558524  \n",
       "3     -1.515573  \n",
       "4     -1.441942  "
      ]
     },
     "execution_count": 5,
     "metadata": {},
     "output_type": "execute_result"
    }
   ],
   "source": [
    "X.head()"
   ]
  },
  {
   "cell_type": "code",
   "execution_count": 6,
   "metadata": {
    "scrolled": false
   },
   "outputs": [
    {
     "data": {
      "text/html": [
       "<div>\n",
       "<style scoped>\n",
       "    .dataframe tbody tr th:only-of-type {\n",
       "        vertical-align: middle;\n",
       "    }\n",
       "\n",
       "    .dataframe tbody tr th {\n",
       "        vertical-align: top;\n",
       "    }\n",
       "\n",
       "    .dataframe thead th {\n",
       "        text-align: right;\n",
       "    }\n",
       "</style>\n",
       "<table border=\"1\" class=\"dataframe\">\n",
       "  <thead>\n",
       "    <tr style=\"text-align: right;\">\n",
       "      <th></th>\n",
       "      <th>rot_next_pos</th>\n",
       "      <th>flex_next_pos</th>\n",
       "      <th>rot_next_vel</th>\n",
       "      <th>flex_next_vel</th>\n",
       "    </tr>\n",
       "  </thead>\n",
       "  <tbody>\n",
       "    <tr>\n",
       "      <th>0</th>\n",
       "      <td>0.003068</td>\n",
       "      <td>-0.012272</td>\n",
       "      <td>-1.570796</td>\n",
       "      <td>-1.570796</td>\n",
       "    </tr>\n",
       "    <tr>\n",
       "      <th>1</th>\n",
       "      <td>0.003068</td>\n",
       "      <td>-0.012272</td>\n",
       "      <td>-1.570796</td>\n",
       "      <td>-1.558524</td>\n",
       "    </tr>\n",
       "    <tr>\n",
       "      <th>2</th>\n",
       "      <td>-0.006136</td>\n",
       "      <td>-0.003068</td>\n",
       "      <td>0.061359</td>\n",
       "      <td>-1.515573</td>\n",
       "    </tr>\n",
       "    <tr>\n",
       "      <th>3</th>\n",
       "      <td>-0.026078</td>\n",
       "      <td>0.013806</td>\n",
       "      <td>0.147262</td>\n",
       "      <td>-1.441942</td>\n",
       "    </tr>\n",
       "    <tr>\n",
       "      <th>4</th>\n",
       "      <td>-0.049087</td>\n",
       "      <td>0.033748</td>\n",
       "      <td>0.245437</td>\n",
       "      <td>-1.356039</td>\n",
       "    </tr>\n",
       "  </tbody>\n",
       "</table>\n",
       "</div>"
      ],
      "text/plain": [
       "   rot_next_pos  flex_next_pos  rot_next_vel  flex_next_vel\n",
       "0      0.003068      -0.012272     -1.570796      -1.570796\n",
       "1      0.003068      -0.012272     -1.570796      -1.558524\n",
       "2     -0.006136      -0.003068      0.061359      -1.515573\n",
       "3     -0.026078       0.013806      0.147262      -1.441942\n",
       "4     -0.049087       0.033748      0.245437      -1.356039"
      ]
     },
     "execution_count": 6,
     "metadata": {},
     "output_type": "execute_result"
    }
   ],
   "source": [
    "y.head()"
   ]
  },
  {
   "cell_type": "code",
   "execution_count": 7,
   "metadata": {},
   "outputs": [],
   "source": [
    "X_train = X[:8000]\n",
    "X_test = X[8000:].reset_index(drop=True)\n",
    "y_train = y[:8000]\n",
    "y_test = y[8000:].reset_index(drop=True)"
   ]
  },
  {
   "cell_type": "markdown",
   "metadata": {},
   "source": [
    "# Neural Network"
   ]
  },
  {
   "cell_type": "code",
   "execution_count": 139,
   "metadata": {
    "scrolled": true
   },
   "outputs": [
    {
     "name": "stdout",
     "output_type": "stream",
     "text": [
      "Model: \"sequential_15\"\n",
      "_________________________________________________________________\n",
      "Layer (type)                 Output Shape              Param #   \n",
      "=================================================================\n",
      "dense_29 (Dense)             (None, 6)                 24        \n",
      "_________________________________________________________________\n",
      "dense_30 (Dense)             (None, 2)                 14        \n",
      "=================================================================\n",
      "Total params: 38\n",
      "Trainable params: 38\n",
      "Non-trainable params: 0\n",
      "_________________________________________________________________\n"
     ]
    }
   ],
   "source": [
    "num_inputs = 3\n",
    "num_outputs = 2\n",
    "nn = Sequential()\n",
    "nn.add(Dense(6, input_shape=(num_inputs,), activation='relu'))\n",
    "nn.add(Dense(num_outputs))\n",
    "opt = Adam(lr=0.001, beta_1=0.9, beta_2=0.999, epsilon=None, amsgrad=False)\n",
    "nn.compile(opt, loss='mse')\n",
    "nn.summary()"
   ]
  },
  {
   "cell_type": "code",
   "execution_count": 140,
   "metadata": {},
   "outputs": [],
   "source": [
    "X_train_nn = np.array(X_train[['rot_command']])\n",
    "y_train_nn = np.array(y_train[['rot_next_vel', 'rot_next_pos']])\n",
    "X_test_nn = np.array(X_test[['rot_command']])\n",
    "y_test_nn = np.array(y_test[['rot_next_vel', 'rot_next_pos']])\n",
    "\n",
    "\n",
    "    \n",
    "def run_model(X, labels):\n",
    "    rot_servo = Servo(\"rotation\", 1, 1, 1)\n",
    "    T = np.arange(0, len(X)*0.005, 0.005)\n",
    "    dy = np.zeros(len(labels))\n",
    "    y = np.zeros(len(labels))\n",
    "    dy[0] = labels[0, 0]\n",
    "    y[0] = labels[0, 1]\n",
    "    mse = 0\n",
    "    for i in range(1, len(X)):\n",
    "        _, state = odeint(rot_servo.ode, [dy[i-1], y[i-1]], [T[i-1], T[i]], args=(X[i],))\n",
    "        nn_input = np.array([np.concatenate((state, X[i]))])\n",
    "        model_output = nn.predict(nn_input, batch_size=1).flatten()\n",
    "\n",
    "        dy[i] = model_output[0]\n",
    "        y[i] = model_output[1]\n",
    "        mse += mean_squared_error(labels[i], model_output)\n",
    "\n",
    "\n",
    "    print(\"MSE: \", mse/ (len(X)-1))\n",
    "    return dy, y\n",
    "    \n"
   ]
  },
  {
   "cell_type": "code",
   "execution_count": 144,
   "metadata": {
    "scrolled": true
   },
   "outputs": [
    {
     "name": "stdout",
     "output_type": "stream",
     "text": [
      "Train on 8000 samples\n",
      "Epoch 1/100\n",
      "8000/8000 [==============================] - 0s 28us/sample - loss: 0.0994\n",
      "Epoch 2/100\n",
      "8000/8000 [==============================] - 0s 25us/sample - loss: 0.0990\n",
      "Epoch 3/100\n",
      "8000/8000 [==============================] - 0s 23us/sample - loss: 0.0984\n",
      "Epoch 4/100\n",
      "8000/8000 [==============================] - 0s 23us/sample - loss: 0.0979\n",
      "Epoch 5/100\n",
      "8000/8000 [==============================] - ETA: 0s - loss: 0.095 - 0s 23us/sample - loss: 0.0975\n",
      "Epoch 6/100\n",
      "8000/8000 [==============================] - 0s 23us/sample - loss: 0.0970\n",
      "Epoch 7/100\n",
      "8000/8000 [==============================] - 0s 22us/sample - loss: 0.0964\n",
      "Epoch 8/100\n",
      "8000/8000 [==============================] - 0s 22us/sample - loss: 0.09590s - loss: 0.096\n",
      "Epoch 9/100\n",
      "8000/8000 [==============================] - 0s 22us/sample - loss: 0.0954\n",
      "Epoch 10/100\n",
      "8000/8000 [==============================] - 0s 23us/sample - loss: 0.0948\n",
      "Epoch 11/100\n",
      "8000/8000 [==============================] - 0s 22us/sample - loss: 0.0946\n",
      "Epoch 12/100\n",
      "8000/8000 [==============================] - ETA: 0s - loss: 0.094 - 0s 22us/sample - loss: 0.0940\n",
      "Epoch 13/100\n",
      "8000/8000 [==============================] - 0s 22us/sample - loss: 0.0933\n",
      "Epoch 14/100\n",
      "8000/8000 [==============================] - ETA: 0s - loss: 0.0927- ETA: 0s - loss: 0.0 - 0s 22us/sample - loss: 0.0930\n",
      "Epoch 15/100\n",
      "8000/8000 [==============================] - 0s 22us/sample - loss: 0.0925\n",
      "Epoch 16/100\n",
      "8000/8000 [==============================] - 0s 22us/sample - loss: 0.09180s - loss: 0.091\n",
      "Epoch 17/100\n",
      "8000/8000 [==============================] - 0s 23us/sample - loss: 0.09130s - loss: 0.09\n",
      "Epoch 18/100\n",
      "8000/8000 [==============================] - 0s 22us/sample - loss: 0.0909\n",
      "Epoch 19/100\n",
      "8000/8000 [==============================] - 0s 22us/sample - loss: 0.0902\n",
      "Epoch 20/100\n",
      "8000/8000 [==============================] - 0s 22us/sample - loss: 0.0898\n",
      "Epoch 21/100\n",
      "8000/8000 [==============================] - 0s 22us/sample - loss: 0.0894\n",
      "Epoch 22/100\n",
      "8000/8000 [==============================] - 0s 22us/sample - loss: 0.0889\n",
      "Epoch 23/100\n",
      "8000/8000 [==============================] - 0s 22us/sample - loss: 0.0884\n",
      "Epoch 24/100\n",
      "8000/8000 [==============================] - 0s 22us/sample - loss: 0.0878\n",
      "Epoch 25/100\n",
      "8000/8000 [==============================] - 0s 22us/sample - loss: 0.0876\n",
      "Epoch 26/100\n",
      "8000/8000 [==============================] - 0s 22us/sample - loss: 0.0870\n",
      "Epoch 27/100\n",
      "8000/8000 [==============================] - 0s 22us/sample - loss: 0.0865\n",
      "Epoch 28/100\n",
      "8000/8000 [==============================] - 0s 22us/sample - loss: 0.0859\n",
      "Epoch 29/100\n",
      "8000/8000 [==============================] - 0s 22us/sample - loss: 0.0855\n",
      "Epoch 30/100\n",
      "8000/8000 [==============================] - 0s 22us/sample - loss: 0.0849\n",
      "Epoch 31/100\n",
      "8000/8000 [==============================] - 0s 22us/sample - loss: 0.08430s - loss: 0.083\n",
      "Epoch 32/100\n",
      "8000/8000 [==============================] - 0s 22us/sample - loss: 0.0840\n",
      "Epoch 33/100\n",
      "8000/8000 [==============================] - 0s 22us/sample - loss: 0.0833\n",
      "Epoch 34/100\n",
      "8000/8000 [==============================] - 0s 22us/sample - loss: 0.0827\n",
      "Epoch 35/100\n",
      "8000/8000 [==============================] - 0s 22us/sample - loss: 0.0824\n",
      "Epoch 36/100\n",
      "8000/8000 [==============================] - 0s 22us/sample - loss: 0.08190s - loss: 0.081\n",
      "Epoch 37/100\n",
      "8000/8000 [==============================] - 0s 22us/sample - loss: 0.08150s - loss: 0.0\n",
      "Epoch 38/100\n",
      "8000/8000 [==============================] - 0s 22us/sample - loss: 0.0809\n",
      "Epoch 39/100\n",
      "8000/8000 [==============================] - 0s 22us/sample - loss: 0.08050s - loss: 0.07\n",
      "Epoch 40/100\n",
      "8000/8000 [==============================] - 0s 22us/sample - loss: 0.07970s - loss: 0.0\n",
      "Epoch 41/100\n",
      "8000/8000 [==============================] - 0s 22us/sample - loss: 0.0795\n",
      "Epoch 42/100\n",
      "8000/8000 [==============================] - 0s 22us/sample - loss: 0.0789\n",
      "Epoch 43/100\n",
      "8000/8000 [==============================] - ETA: 0s - loss: 0.079 - 0s 22us/sample - loss: 0.0783\n",
      "Epoch 44/100\n",
      "8000/8000 [==============================] - 0s 22us/sample - loss: 0.0777\n",
      "Epoch 45/100\n",
      "8000/8000 [==============================] - 0s 22us/sample - loss: 0.07740s - loss: 0.07\n",
      "Epoch 46/100\n",
      "8000/8000 [==============================] - 0s 22us/sample - loss: 0.0770\n",
      "Epoch 47/100\n",
      "8000/8000 [==============================] - 0s 22us/sample - loss: 0.0765\n",
      "Epoch 48/100\n",
      "8000/8000 [==============================] - ETA: 0s - loss: 0.075 - 0s 22us/sample - loss: 0.0759\n",
      "Epoch 49/100\n",
      "8000/8000 [==============================] - 0s 22us/sample - loss: 0.0755\n",
      "Epoch 50/100\n",
      "8000/8000 [==============================] - 0s 22us/sample - loss: 0.0747\n",
      "Epoch 51/100\n",
      "8000/8000 [==============================] - 0s 22us/sample - loss: 0.0743\n",
      "Epoch 52/100\n",
      "8000/8000 [==============================] - 0s 22us/sample - loss: 0.0739\n",
      "Epoch 53/100\n",
      "8000/8000 [==============================] - 0s 22us/sample - loss: 0.0733\n",
      "Epoch 54/100\n",
      "8000/8000 [==============================] - 0s 22us/sample - loss: 0.07290s - loss: 0.07\n",
      "Epoch 55/100\n",
      "8000/8000 [==============================] - 0s 22us/sample - loss: 0.0723\n",
      "Epoch 56/100\n",
      "8000/8000 [==============================] - 0s 22us/sample - loss: 0.0719\n",
      "Epoch 57/100\n",
      "8000/8000 [==============================] - 0s 22us/sample - loss: 0.0713\n",
      "Epoch 58/100\n",
      "8000/8000 [==============================] - 0s 22us/sample - loss: 0.0707\n",
      "Epoch 59/100\n",
      "8000/8000 [==============================] - 0s 22us/sample - loss: 0.0706\n",
      "Epoch 60/100\n",
      "8000/8000 [==============================] - 0s 22us/sample - loss: 0.0698\n",
      "Epoch 61/100\n",
      "8000/8000 [==============================] - 0s 22us/sample - loss: 0.0696\n",
      "Epoch 62/100\n",
      "8000/8000 [==============================] - 0s 22us/sample - loss: 0.0691\n",
      "Epoch 63/100\n",
      "8000/8000 [==============================] - 0s 22us/sample - loss: 0.0685\n",
      "Epoch 64/100\n",
      "8000/8000 [==============================] - 0s 22us/sample - loss: 0.0682\n",
      "Epoch 65/100\n",
      "8000/8000 [==============================] - 0s 22us/sample - loss: 0.0677\n",
      "Epoch 66/100\n",
      "8000/8000 [==============================] - 0s 22us/sample - loss: 0.0671\n",
      "Epoch 67/100\n",
      "8000/8000 [==============================] - 0s 22us/sample - loss: 0.0665\n",
      "Epoch 68/100\n",
      "8000/8000 [==============================] - 0s 22us/sample - loss: 0.0662\n",
      "Epoch 69/100\n",
      "8000/8000 [==============================] - 0s 22us/sample - loss: 0.0655\n",
      "Epoch 70/100\n",
      "8000/8000 [==============================] - 0s 22us/sample - loss: 0.0654\n",
      "Epoch 71/100\n",
      "8000/8000 [==============================] - 0s 22us/sample - loss: 0.0647\n",
      "Epoch 72/100\n",
      "8000/8000 [==============================] - 0s 22us/sample - loss: 0.0644\n",
      "Epoch 73/100\n",
      "8000/8000 [==============================] - 0s 22us/sample - loss: 0.0639\n",
      "Epoch 74/100\n",
      "8000/8000 [==============================] - 0s 22us/sample - loss: 0.0635\n",
      "Epoch 75/100\n",
      "8000/8000 [==============================] - 0s 22us/sample - loss: 0.0630\n",
      "Epoch 76/100\n",
      "8000/8000 [==============================] - 0s 22us/sample - loss: 0.0624\n",
      "Epoch 77/100\n",
      "8000/8000 [==============================] - 0s 22us/sample - loss: 0.0619\n",
      "Epoch 78/100\n",
      "8000/8000 [==============================] - ETA: 0s - loss: 0.061 - ETA: 0s - loss: 0.061 - 0s 23us/sample - loss: 0.0618\n",
      "Epoch 79/100\n",
      "8000/8000 [==============================] - 0s 23us/sample - loss: 0.0611\n",
      "Epoch 80/100\n",
      "8000/8000 [==============================] - 0s 22us/sample - loss: 0.0608\n",
      "Epoch 81/100\n",
      "8000/8000 [==============================] - 0s 22us/sample - loss: 0.0603\n",
      "Epoch 82/100\n",
      "8000/8000 [==============================] - 0s 22us/sample - loss: 0.0602\n",
      "Epoch 83/100\n",
      "8000/8000 [==============================] - 0s 23us/sample - loss: 0.0597\n",
      "Epoch 84/100\n",
      "8000/8000 [==============================] - 0s 22us/sample - loss: 0.0591\n",
      "Epoch 85/100\n",
      "8000/8000 [==============================] - 0s 23us/sample - loss: 0.05870s - loss: 0.0\n",
      "Epoch 86/100\n",
      "8000/8000 [==============================] - 0s 22us/sample - loss: 0.0582\n",
      "Epoch 87/100\n",
      "8000/8000 [==============================] - 0s 23us/sample - loss: 0.05790s - loss: 0.0\n",
      "Epoch 88/100\n",
      "8000/8000 [==============================] - 0s 23us/sample - loss: 0.05770s - loss: 0.05\n",
      "Epoch 89/100\n"
     ]
    },
    {
     "name": "stdout",
     "output_type": "stream",
     "text": [
      "8000/8000 [==============================] - 0s 23us/sample - loss: 0.0571\n",
      "Epoch 90/100\n",
      "8000/8000 [==============================] - 0s 22us/sample - loss: 0.0567\n",
      "Epoch 91/100\n",
      "8000/8000 [==============================] - 0s 22us/sample - loss: 0.0563\n",
      "Epoch 92/100\n",
      "8000/8000 [==============================] - 0s 22us/sample - loss: 0.0560\n",
      "Epoch 93/100\n",
      "8000/8000 [==============================] - 0s 22us/sample - loss: 0.0554\n",
      "Epoch 94/100\n",
      "8000/8000 [==============================] - 0s 22us/sample - loss: 0.0550\n",
      "Epoch 95/100\n",
      "8000/8000 [==============================] - 0s 22us/sample - loss: 0.0549\n",
      "Epoch 96/100\n",
      "8000/8000 [==============================] - 0s 22us/sample - loss: 0.0549\n",
      "Epoch 97/100\n",
      "8000/8000 [==============================] - 0s 22us/sample - loss: 0.0541\n",
      "Epoch 98/100\n",
      "8000/8000 [==============================] - 0s 22us/sample - loss: 0.0537\n",
      "Epoch 99/100\n",
      "8000/8000 [==============================] - 0s 22us/sample - loss: 0.0533\n",
      "Epoch 100/100\n",
      "8000/8000 [==============================] - 0s 22us/sample - loss: 0.0529\n"
     ]
    },
    {
     "data": {
      "text/plain": [
       "<tensorflow.python.keras.callbacks.History at 0x2270131b708>"
      ]
     },
     "execution_count": 144,
     "metadata": {},
     "output_type": "execute_result"
    }
   ],
   "source": [
    "rot_servo = Servo(\"rotation\", 1, 1, 1)\n",
    "T = np.arange(0, len(X_train_nn)*0.005, 0.005)\n",
    "nn_input = np.zeros(shape=(len(X_train_nn), 3))\n",
    "\n",
    "for i in range(1, len(X_train_nn)):\n",
    "    _, state = odeint(rot_servo.ode, [y_train_nn[i-1, 0], y_train_nn[i-1, 1]], [T[i-1], T[i]], args=(X_train_nn[i],))\n",
    "    nn_input[i] = np.array(np.concatenate((state, X_train_nn[i])))\n",
    "    \n",
    "nn.fit(nn_input, y_train_nn, batch_size=32, verbose=1, epochs=100)"
   ]
  },
  {
   "cell_type": "code",
   "execution_count": 156,
   "metadata": {},
   "outputs": [
    {
     "name": "stdout",
     "output_type": "stream",
     "text": [
      "MSE:  1.0724217621737656e+71\n",
      "0.0\n"
     ]
    }
   ],
   "source": [
    "dy, y = run_simulation(X_test_nn, y_test_nn)"
   ]
  },
  {
   "cell_type": "code",
   "execution_count": 157,
   "metadata": {},
   "outputs": [
    {
     "data": {
      "image/png": "[encoded data removed]",
      "text/plain": [
       "<Figure size 432x288 with 1 Axes>"
      ]
     },
     "metadata": {
      "needs_background": "light"
     },
     "output_type": "display_data"
    }
   ],
   "source": [
    "plt.plot(y_train_nn[:, 1], '--')\n",
    "plt.plot(y)\n",
    "plt.legend(['Actual', 'Predicted'])\n",
    "plt.title(\"Rotation prediction\")\n",
    "plt.show()"
   ]
  },
  {
   "cell_type": "markdown",
   "metadata": {},
   "source": [
    "# LSTM"
   ]
  },
  {
   "cell_type": "code",
   "execution_count": 8,
   "metadata": {},
   "outputs": [
    {
     "name": "stdout",
     "output_type": "stream",
     "text": [
      "Model: \"sequential\"\n",
      "_________________________________________________________________\n",
      "Layer (type)                 Output Shape              Param #   \n",
      "=================================================================\n",
      "lstm (LSTM)                  (1, None, 16)             1216      \n",
      "_________________________________________________________________\n",
      "dense (Dense)                (1, None, 2)              34        \n",
      "=================================================================\n",
      "Total params: 1,250\n",
      "Trainable params: 1,250\n",
      "Non-trainable params: 0\n",
      "_________________________________________________________________\n"
     ]
    }
   ],
   "source": [
    "seq_len_train = 100\n",
    "num_inputs = 2\n",
    "num_outputs = 2\n",
    "lstm = Sequential()\n",
    "lstm.add(LSTM(16, batch_input_shape=(1, None, num_inputs), return_sequences=True, stateful=True))\n",
    "lstm.add(Dense(num_outputs))\n",
    "\n",
    "opt = Adam(lr=0.001, beta_1=0.9, beta_2=0.999, epsilon=None, amsgrad=False)\n",
    "lstm.compile(opt, loss='mse')\n",
    "lstm.summary()"
   ]
  },
  {
   "cell_type": "code",
   "execution_count": 45,
   "metadata": {},
   "outputs": [],
   "source": [
    "def run_lstm(seq_len, X, y_labels=None):\n",
    "    lstm.reset_states()\n",
    "\n",
    "    outputs = np.zeros(shape=(len(X), 2))\n",
    "\n",
    "    rot_servo = Servo(\"rotation\", 1, 1, 1)\n",
    "    T = np.arange(0, len(X_train_lstm)*0.005, 0.005)\n",
    "    dy = np.zeros(len(X_train_lstm))\n",
    "    y = np.zeros(len(X_train_lstm))\n",
    "    dy[0] = 0\n",
    "    y[0] = 0\n",
    "\n",
    "    batches = len(X)//seq_len\n",
    "\n",
    "    mse = 0\n",
    "    for i in range(batches):\n",
    "        _, state = odeint(rot_servo.ode, [dy[i-1], y[i-1]], [T[i-1], T[i]], args=(X.iloc[i],))\n",
    "\n",
    "        lstm_input = np.array(state).reshape(1, seq_len, num_inputs)\n",
    "        model_output = lstm.predict(lstm_input, batch_size=1).flatten()\n",
    "\n",
    "        if y_labels is not None:\n",
    "            lstm_labels = np.array(y_labels[i*seq_len:(i+1)*seq_len]).flatten()\n",
    "            mse += mean_squared_error(lstm_labels, model_output)\n",
    "        \n",
    "        dy[i] = model_output[0]\n",
    "        y[i] = model_output[1]\n",
    "        \n",
    "        outputs[i] = model_output\n",
    "\n",
    "    if y_labels is not None:\n",
    "        mse /= batches\n",
    "        print(\"MSE:\",mse)\n",
    "    return outputs"
   ]
  },
  {
   "cell_type": "code",
   "execution_count": null,
   "metadata": {},
   "outputs": [],
   "source": [
    "X_train_lstm = np.zeros(shape=(len(X_train), 2))\n",
    "y_train_lstm = y_train[['rot_next_vel', 'rot_next_pos']]\n",
    "X_test_lstm = X_test[['rot_command']]\n",
    "y_test_lstm = y_test[['rot_next_vel', 'rot_next_pos']]\n",
    "\n",
    "rot_servo = Servo(\"rotation\", 1, 1, 1)\n",
    "T = np.arange(0, len(X_train_lstm)*0.005, 0.005)\n",
    "X_train_lstm[0] = y_train_lstm.iloc[0]\n",
    "for i in range(1, len(X_train)):\n",
    "    _, X_train_lstm[i] = odeint(rot_servo.ode, y_train_lstm.iloc[i-1], [T[i-1], T[i]], args=(X_train[['rot_command']].iloc[i],))\n",
    "\n"
   ]
  },
  {
   "cell_type": "code",
   "execution_count": 19,
   "metadata": {},
   "outputs": [
    {
     "name": "stdout",
     "output_type": "stream",
     "text": [
      "0.5645337790250778 ,0.3044309697113931 ,0.21351016648113727 ,0.1631793868727982 ,0.139046349900309 ,0.12354662758880294 ,0.11241576203610748 ,0.10327749992720783 ,0.09417909214971587 ,0.08647775771096348 ,0.08121462805429473 ,0.07653892044327222 ,0.07376313215354457 ,0.07147754313773476 ,0.0697782754607033 ,0.06836836386937648 ,0.0671564893622417 ,0.06609284869336988 ,0.06515013450698462 ,0.06430820736568421 ,0.06355043201765512 ,0.06286203164490871 ,0.06222989459929522 ,0.06164278355136048 ,0.06109123372880276 ,0.060567169723799455 ,0.060063510260079056 ,0.059573684690985826 ,0.05909091704525053 ,0.05860728697734885 ,0.05811257491877768 ,0.05759385721175932 ,0.05703602379362564 ,0.05642432651075069 ,0.05575635650602635 ,0.05511324339895509 ,0.054999129389761946 ,0.057052298533380966 ,0.05476323381008115 ,0.056154820951633155 ,0.05360270956443856 ,0.05127630901261 ,0.05940673304576194 ,0.054141361796064304 ,0.051952873459958936 ,0.05108399016608019 ,0.05002067767782137 ,0.04929720777145121 ,0.05102023633953649 ,0.051891498088662044 ,0.05452487535221735 ,0.04694311077037128 ,0.04597055048798211 ,0.056385262386174875 ,0.05379750088322908 ,0.049831559973245024 ,0.04735509749043558 ,0.045187785421148874 ,0.04618534440232906 ,0.04489741182042053 ,0.04390994587156456 ,0.04417862098198384 ,0.04611064390774118 ,0.04668643253535265 ,0.04408457975514466 ,0.043962528855990966 ,0.04364610404736595 ,0.04222210113221081 ,0.048807455282076265 ,0.04492649209132651 ,0.04328689908179513 ,0.04183041048308951 ,0.04188938766747015 ,0.04162269581720466 ,0.04191188212862471 ,0.04460397684160853 ,0.043166253747767766 ,0.04378951251128456 ,0.045820141430885995 ,0.040472337084065654 ,0.04226168870045512 ,0.04006261179638386 ,0.040167828841367735 ,0.03962079034099588 ,0.03925261326803593 ,0.040005329238192645 ,0.04308996002509957 ,0.04038400477147661 ,0.039769410439475905 ,0.03844656634828425 ,0.03861201304025599 ,0.0410922020120779 ,0.040219052984321026 ,0.041667544334268315 ,0.039186237772082674 ,0.03783790337765822 ,0.04352579603873892 ,0.038735281417393706 ,0.03691062858124496 ,0.03665358641010243 ,"
     ]
    }
   ],
   "source": [
    "batches = len(X_train_lstm)//seq_len_train\n",
    "epochs = 100\n",
    "for _ in range(epochs):\n",
    "    err = 0\n",
    "    for i in range(batches):\n",
    "        lstm_input = np.array(X_train_lstm[i*seq_len_train:(i+1)*seq_len_train]).reshape(1, seq_len_train, num_inputs)\n",
    "        lstm_labels = np.array(y_train_lstm[i*seq_len_train:(i+1)*seq_len_train]).reshape(1, seq_len_train, num_outputs)\n",
    "        hist = lstm.fit(lstm_input, lstm_labels, batch_size=1, verbose=0)\n",
    "        err += hist.history['loss'][0]\n",
    "    err /= batches\n",
    "    print(err, ',', end='')"
   ]
  },
  {
   "cell_type": "markdown",
   "metadata": {},
   "source": [
    "### Testing on test set"
   ]
  },
  {
   "cell_type": "code",
   "execution_count": 46,
   "metadata": {},
   "outputs": [
    {
     "name": "stdout",
     "output_type": "stream",
     "text": [
      "MSE: 0.8983883299537712\n"
     ]
    },
    {
     "data": {
      "image/png": "[encoded data removed]",
      "text/plain": [
       "<Figure size 432x288 with 1 Axes>"
      ]
     },
     "metadata": {
      "needs_background": "light"
     },
     "output_type": "display_data"
    }
   ],
   "source": [
    "outputs = run_lstm(1, X_test_lstm, y_test_lstm)\n",
    "rot_position = outputs[:, 1]\n",
    "\n",
    "plt.plot(y_test['rot_next_pos'], '--')\n",
    "plt.plot(rot_position)\n",
    "plt.legend(['Actual', 'Predicted'])\n",
    "plt.title(\"Rotation prediction\")\n",
    "plt.show()"
   ]
  },
  {
   "cell_type": "code",
   "execution_count": 31,
   "metadata": {},
   "outputs": [],
   "source": [
    "# lstm_weights = [lstm.layers[0].get_weights(), lstm.layers[1].get_weights()]\n",
    "# pkl.dump(lstm_weights, open('lstm_weights_2dof.pkl', 'wb'))"
   ]
  }
 ],
 "metadata": {
  "kernelspec": {
   "display_name": "Python 3",
   "language": "python",
   "name": "python3"
  },
  "language_info": {
   "codemirror_mode": {
    "name": "ipython",
    "version": 3
   },
   "file_extension": ".py",
   "mimetype": "text/x-python",
   "name": "python",
   "nbconvert_exporter": "python",
   "pygments_lexer": "ipython3",
   "version": "3.7.4"
  }
 },
 "nbformat": 4,
 "nbformat_minor": 2
}
