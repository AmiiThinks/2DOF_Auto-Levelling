{
 "cells": [
  {
   "cell_type": "markdown",
   "metadata": {},
   "source": [
    "https://molefrog.github.io/pidnn-talk/#pidnn-controller"
   ]
  },
  {
   "cell_type": "markdown",
   "metadata": {},
   "source": [
    "Use neural network to generate PID parameters. Neural network is trained using a model of the plant so we don't need to know jacobian of plant. Model is trained on plant outputs offline.\n",
    "\n",
    "V3.1 PID neural network takes in previous y value as parameter\n",
    "\n",
    "V3.2 Take absolute value of Kp, Ki, Kd\n",
    "\n",
    "V3.3 PID control the plant while training with a manually tuned PID controller\n",
    "\n",
    "V3.4 Remove 3.3 changes. Initialize bias term with ones\n",
    "\n",
    "V3.5 Added another layer to model neural network. Initialized only model nn with zeros. Increased NN model size to 16\n",
    "\n",
    "V3.6 Changed to Adam Optimizer. Increased model to 3 layers: 16, 8 ,4. Added 10 epochs. Lowered learning rate\n",
    "\n",
    "V3.7 Allowing model nn weight updates in online training\n",
    "\n",
    "V3.8 Remove 3.7 changes. Added layer to PID nn: 8, 3. Switched to leaky relu in model nn"
   ]
  },
  {
   "cell_type": "code",
   "execution_count": 3,
   "metadata": {},
   "outputs": [],
   "source": [
    "import numpy as np\n",
    "from scipy import signal\n",
    "import matplotlib.pyplot as plt\n",
    "from scipy.integrate import odeint\n",
    "import math\n",
    "import tensorflow as tf\n",
    "from tensorflow.python.framework import ops"
   ]
  },
  {
   "cell_type": "code",
   "execution_count": 4,
   "metadata": {},
   "outputs": [],
   "source": [
    "from simulation_tools import Servo, simulation_init"
   ]
  },
  {
   "cell_type": "markdown",
   "metadata": {},
   "source": [
    "### Plant control with neural network"
   ]
  },
  {
   "cell_type": "code",
   "execution_count": 5,
   "metadata": {},
   "outputs": [],
   "source": [
    "class Servo_Interface():\n",
    "\n",
    "    def __init__(self):\n",
    "        self.servo = Servo(\"rotation\", 0.32, 0.06, 0.00879)\n",
    "        \n",
    "    def set_inputs(self, y0, cur_angle, t, r, d):\n",
    "        self.y0 = y0\n",
    "        self.cur_angle = cur_angle\n",
    "        self.t = t\n",
    "        self.r = r\n",
    "        self.d = d\n",
    "        \n",
    "    def update(self, Kp, Ki, Kd):\n",
    "        if Kp is not None and Ki is not None and Kd is not None:\n",
    "            self.servo.PID.update_gains(Kp, Ki, Kd)\n",
    "        self.state, self.angle = self.servo.simulate_step(self.y0, self.cur_angle, self.t, self.r, self.d)\n",
    "        return self.servo.PID.u\n",
    "    \n",
    "    def d_update(self, Kp, Ki, Kd):\n",
    "        return np.float32(self.servo.PID.P), np.float32(self.servo.PID.I), np.float32(self.servo.PID.D)\n",
    "    "
   ]
  },
  {
   "cell_type": "code",
   "execution_count": 42,
   "metadata": {
    "scrolled": true
   },
   "outputs": [],
   "source": [
    "si = Servo_Interface()\n",
    "\n",
    "\n",
    "np_update = np.vectorize(si.update)\n",
    "np_d_update = np.vectorize(si.d_update)\n",
    "\n",
    "def tf_d_update(Kp, Ki, Kd,name=None):\n",
    "    with tf.name_scope(name, \"d_update\", [Kp, Ki, Kd]) as name:\n",
    "        y = tf.py_func(np_d_update,\n",
    "                        [Kp, Ki, Kd],\n",
    "                        (tf.float32, tf.float32, tf.float32),\n",
    "                        name=name,\n",
    "                        stateful=False)\n",
    "        return y\n",
    "\n",
    "def py_func(func, inp, Tout, stateful=True, name=None, grad=None):\n",
    "\n",
    "    # Need to generate a unique name to avoid duplicates:\n",
    "    rnd_name = 'PyFuncGrad' + str(np.random.randint(0, 1E+8))\n",
    "\n",
    "    tf.RegisterGradient(rnd_name)(grad)  # see _MySquareGrad for grad example\n",
    "    g = tf.get_default_graph()\n",
    "    with g.gradient_override_map({\"PyFunc\": rnd_name}):\n",
    "        return tf.py_func(func, inp, Tout, stateful=stateful, name=name)\n",
    "    \n",
    "def updategrad(op, grad):\n",
    "    Kp, Ki, Kd = op.inputs\n",
    "    \n",
    "    dudKp, dudKi, dudKd = tf_d_update(Kp, Ki, Kd)\n",
    "    return grad * dudKp, grad * dudKi, grad * dudKd\n",
    "\n",
    "\n",
    "def tf_update(Kp, Ki, Kd, name=None):\n",
    "\n",
    "    with tf.name_scope(name, \"update\", [Kp, Ki, Kd]) as name:\n",
    "        y = py_func(np_update,\n",
    "                        [Kp, Ki, Kd],\n",
    "                        [tf.float32],\n",
    "                        name=name,\n",
    "                        grad=updategrad)  # <-- here's the call to the gradient\n",
    "        return y\n",
    "\n",
    "graph = tf.Graph()\n",
    "with graph.as_default():\n",
    "    \n",
    "    tf_control_sig = tf.placeholder(tf.float32, shape=())\n",
    "    tf_dy_prev = tf.placeholder(tf.float32, shape=())\n",
    "    tf_y_prev = tf.placeholder(tf.float32, shape=())\n",
    "    tf_dy_next = tf.placeholder(tf.float32, shape=())\n",
    "    tf_y_next = tf.placeholder(tf.float32, shape=())\n",
    "\n",
    "\n",
    "    tf_lr = tf.placeholder(tf.float32, shape=())\n",
    "  \n",
    "    def init_weights(layers, weights, biases, output_dim, bias_ones=False):         \n",
    "        for i in range(len(layers)):\n",
    "            if i < len(layers) - 1:\n",
    "                weights.append(tf.Variable(tf.truncated_normal([layers[i], layers[i+1]])))\n",
    "                if bias_ones:\n",
    "                    biases.append(tf.Variable(tf.ones([layers[i+1]])))\n",
    "                else:\n",
    "                    biases.append(tf.Variable(tf.zeros([layers[i+1]])))\n",
    "\n",
    "            else:\n",
    "                weights.append(tf.Variable(tf.truncated_normal([layers[i], output_dim])))\n",
    "                if bias_ones:\n",
    "                    biases.append(tf.Variable(tf.ones([output_dim])))\n",
    "                else:\n",
    "                    biases.append(tf.Variable(tf.zeros([output_dim])))\n",
    "    # Model NN    \n",
    "    #include input\n",
    "    m_layers = [3, 5]\n",
    "\n",
    "\n",
    "    m_weights = []\n",
    "    m_biases = []\n",
    "    init_weights(m_layers, m_weights, m_biases, 2)\n",
    "\n",
    "        \n",
    "    # PID param NN\n",
    "    #include input\n",
    "    p_layers = [2, 4, 3]\n",
    "\n",
    "    p_weights = []\n",
    "    p_biases = []\n",
    "\n",
    "    \n",
    "    init_weights(p_layers, p_weights, p_biases, 3)\n",
    "\n",
    "    def forward_prop(input_value, layers, weights, biases):\n",
    "        for i in range(len(layers)):  \n",
    "            if i == 0:\n",
    "                z = tf.matmul(input_value, weights[i]) + biases[i]\n",
    "            else:\n",
    "                z = tf.matmul(a, weights[i]) + biases[i]\n",
    "            if i < len(layers) - 1:\n",
    "                a = tf.nn.leaky_relu(z)\n",
    "        return z\n",
    "    \n",
    "    model_input = tf.reshape(tf.stack([tf_control_sig, tf_dy_prev, tf_y_prev], 0), (1, 3))\n",
    "    model_output = forward_prop(model_input, m_layers, m_weights, m_biases)\n",
    "\n",
    "    model_var_list = m_weights + m_biases\n",
    "    model_label = tf.reshape(tf.stack([tf_dy_next, tf_y_next], 0), (1, 2))\n",
    "    model_loss = tf.losses.mean_squared_error(model_label, model_output)\n",
    "    model_opt = tf.train.AdamOptimizer(tf_lr).minimize(model_loss, var_list=model_var_list)\n",
    "    \n"
   ]
  },
  {
   "cell_type": "code",
   "execution_count": 43,
   "metadata": {
    "scrolled": true
   },
   "outputs": [
    {
     "name": "stdout",
     "output_type": "stream",
     "text": [
      "1.1622462e-06\n",
      "5.3193386e-08\n",
      "9.009793e-09\n",
      "1.4219849e-08\n",
      "2.7755533e-09\n",
      "7.9080714e-11\n",
      "1.3189527e-09\n",
      "1.0185875e-08\n",
      "1.0578248e-10\n",
      "4.7919357e-09\n"
     ]
    },
    {
     "data": {
      "image/png": "[encoded data removed]",
      "text/plain": [
       "<Figure size 432x288 with 1 Axes>"
      ]
     },
     "metadata": {
      "needs_background": "light"
     },
     "output_type": "display_data"
    }
   ],
   "source": [
    "T, r, d, d_test, y0 = simulation_init(0.005, 5, 2)\n",
    "epochs = 10\n",
    "\n",
    "with tf.Session(graph=graph) as session:\n",
    "    tf.global_variables_initializer().run()\n",
    "    for j in range(epochs):\n",
    "        si.servo.PID.reset()\n",
    "        dy = np.zeros(len(T))\n",
    "        y = np.zeros(len(T))\n",
    "        angle = np.zeros(len(T))\n",
    "        \n",
    "        dy[0] = y0[0]\n",
    "        y[0] = y0[1]\n",
    "        angle[0] = y[0] * 180/math.pi + 180\n",
    "        \n",
    "        model_state = np.zeros((len(T), 2))\n",
    "        \n",
    "        for i in range(1, len(T)):\n",
    "            si.set_inputs([dy[i-1], y[i-1]], angle[i-1], [T[i-1], T[i]], r[i], d[i])\n",
    "            u = si.update(None, None, None) * math.pi/180 + y[i-1]\n",
    "            dy[i] = si.state[0]\n",
    "            y[i] = si.state[1]\n",
    "            angle[i] = si.angle\n",
    "            feed_dict = {tf_control_sig:u, tf_dy_prev:dy[i-1], tf_y_prev:y[i-1], tf_dy_next:dy[i], tf_y_next:y[i], tf_lr:0.001}\n",
    "            _, loss, model_state[i,:] = session.run([model_opt, model_loss, model_output], feed_dict=feed_dict)\n",
    "\n",
    "        print(loss)\n",
    "\n",
    "    plt.plot(T, y)\n",
    "    plt.plot(T, model_state[:, 1])\n",
    "    plt.legend([\"Actual\", \"Model\"])\n",
    "    plt.show()"
   ]
  },
  {
   "cell_type": "code",
   "execution_count": null,
   "metadata": {},
   "outputs": [],
   "source": []
  }
 ],
 "metadata": {
  "kernelspec": {
   "display_name": "Python 3",
   "language": "python",
   "name": "python3"
  },
  "language_info": {
   "codemirror_mode": {
    "name": "ipython",
    "version": 3
   },
   "file_extension": ".py",
   "mimetype": "text/x-python",
   "name": "python",
   "nbconvert_exporter": "python",
   "pygments_lexer": "ipython3",
   "version": "3.7.4"
  }
 },
 "nbformat": 4,
 "nbformat_minor": 2
}
