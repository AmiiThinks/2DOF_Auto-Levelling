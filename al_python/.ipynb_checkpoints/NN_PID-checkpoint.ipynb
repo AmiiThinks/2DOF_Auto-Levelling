{
 "cells": [
  {
   "cell_type": "code",
   "execution_count": 1,
   "metadata": {},
   "outputs": [],
   "source": [
    "import numpy as np\n",
    "from control import tf, tf2ss, series, forced_response\n",
    "from scipy.integrate import odeint\n",
    "from scipy.interpolate import interp1d\n",
    "import pandas as pd\n",
    "import math\n",
    "import matplotlib.pyplot as plt\n",
    "import sys"
   ]
  },
  {
   "cell_type": "code",
   "execution_count": 2,
   "metadata": {},
   "outputs": [],
   "source": [
    "class PID:\n",
    "    def __init__(self, Kp, Ki, Kd):\n",
    "        self.Kp = Kp\n",
    "        self.Ki = Ki\n",
    "        self.Kd = Kd\n",
    "        self.I_max = 5\n",
    "        self.e_prev = 0\n",
    "        self.t_prev = 0\n",
    "        self.P = 0\n",
    "        self.I = 0\n",
    "        self.D = 0\n",
    "        self.u = 0\n",
    "\n",
    "    def update(self, e, t):\n",
    "        \n",
    "        \n",
    "        delta_time = t - self.t_prev\n",
    "        delta_error =  e - self.e_prev\n",
    "        \n",
    "        self.P = e\n",
    "    \n",
    "        self.I += e * delta_time\n",
    "\n",
    "        if (self.I < -self.I_max):\n",
    "            self.I = -self.I_max\n",
    "        elif (self.I > self.I_max):\n",
    "            self.I = self.I_max\n",
    "\n",
    "        if delta_time > 0:\n",
    "            self.D = delta_error / delta_time\n",
    "        else:\n",
    "            self.D = 0\n",
    "\n",
    "        self.t_prev = t\n",
    "        self.e_prev = e\n",
    "\n",
    "        return self.Kp * self.P + self.Ki * self.I + self.Kd * self.D\n",
    "       \n",
    "    def reset(self):\n",
    "        self.e_prev = 0\n",
    "        self.t_prev = 0\n",
    "        self.P = 0\n",
    "        self.I = 0\n",
    "        self.D = 0\n",
    "        \n",
    "    def update_gains(self, Kp, Ki, Kd, weight):\n",
    "        self.Kp = self.Kp * (1-weight) + Kp * weight\n",
    "        self.Ki = self.Ki * (1-weight) + Ki * weight\n",
    "        self.Kd = self.Kd * (1-weight) + Kd * weight"
   ]
  },
  {
   "cell_type": "code",
   "execution_count": 3,
   "metadata": {},
   "outputs": [],
   "source": [
    "class NeuralNetwork:\n",
    "    def __init__(self, input_size, hidden_layers, output_size):\n",
    "\n",
    "        self.weights = {\n",
    "            'w': [],\n",
    "            'b': [],\n",
    "            'r': []\n",
    "        }\n",
    "        self.weights['w'].append(np.random.rand(input_size, hidden_layers[0]))\n",
    "        self.weights['b'].append(np.random.rand(1, hidden_layers[0]))\n",
    "        for i in range(1, len(hidden_layers)):\n",
    "            self.weights['w'].append(np.random.rand(hidden_layers[i-1], hidden_layers[i]))\n",
    "            self.weights['b'].append(np.random.rand(1, hidden_layers[i]))\n",
    "        self.weights['w'].append(np.random.rand(hidden_layers[-1], output_size))\n",
    "        self.weights['b'].append(np.random.rand(1, output_size))\n",
    "        \n",
    "        self.weights['r'].append(np.random.rand(hidden_layers[0], 2)) #for input 0\n",
    "        \n",
    "        self.prev_z_layer_1 = None\n",
    "        \n",
    "        self.total_weights = 0\n",
    "        for weight_type in self.weights:\n",
    "            for weight in self.weights[weight_type]:\n",
    "                self.total_weights += weight.size\n",
    "\n",
    "            \n",
    "        self.stored_weight = None\n",
    "        self.stored_weight_type = None\n",
    "        self.stored_weight_num = None\n",
    "    \n",
    "    def copy_weights(self, nn):\n",
    "        for key in self.weights:\n",
    "            for i in range(len(self.weights[key])):\n",
    "                self.weights[key][i] = np.array(nn.weights[key][i])\n",
    "        \n",
    "    def predict(self, input_val):\n",
    "        #multiply second layer by recurrent weight and add to each input node\n",
    "        if self.prev_z_layer_1 is not None:\n",
    "            recurrent_val = np.matmul(self.prev_z_layer_1, self.weights['r'][0])\n",
    "#             input_val = input_val + np.tanh(recurrent_val)\n",
    "            z = np.matmul(input_val, self.weights['w'][0]) + self.weights['b'][0]\n",
    "        else:\n",
    "            z = np.matmul(input_val, self.weights['w'][0]) + self.weights['b'][0]\n",
    "        a = np.where(z > 0, z, z * 0.01) #leaky relu\n",
    "        self.prev_z_layer_1 = z\n",
    "        for i in range(1, len(self.weights['w'])):\n",
    "            z = np.matmul(z, self.weights['w'][i]) + self.weights['b'][i]\n",
    "            a = np.where(z > 0, z, z * 0.01)\n",
    "        \n",
    "        return z #return linear\n",
    "    \n",
    "    def temp_weight_change(self, weight_type, weight_num, i, j, delta):\n",
    "        self.stored_weight = np.array(self.weights[weight_type][weight_num])\n",
    "        self.weights[weight_type][weight_num][i, j] += delta\n",
    "\n",
    "        self.stored_weight_type = weight_type\n",
    "        self.stored_weight_num = weight_num\n",
    "    \n",
    "    def temp_weight_restore(self):\n",
    "        self.weights[self.stored_weight_type][self.stored_weight_num] = self.stored_weight\n",
    "\n",
    "    def reset_recurrence(self):\n",
    "        self.prev_z_layer_1 = None\n",
    "        \n",
    "    def adjust_weights(self, weight_adjustment_list):\n",
    "        index = 0\n",
    "        for weight_type, weight_list in self.weights.items():\n",
    "            for weight_num, weight in enumerate(weight_list):\n",
    "                for i, j in np.ndindex(weight.shape):\n",
    "                    self.weights[weight_type][weight_num][i, j] += weight_adjustment_list[index]\n",
    "                    index += 1\n"
   ]
  },
  {
   "cell_type": "code",
   "execution_count": 4,
   "metadata": {},
   "outputs": [],
   "source": [
    "class Servo:\n",
    "    def __init__(self, servo_type, Kp, Ki, Kd):\n",
    "        R = 8.3 #Motor resistance (ohms)\n",
    "        L = 2.03e-3 #Motor inductance (H)\n",
    "        gear_ratio = 193 #Motor gear ratio\n",
    "        gear_eff = 0.836 #Motor gear efficiency\n",
    "        K_w = 93.1 #Speed constant (rad/V)\n",
    "        K_t = 0.0107 #Torque constant (Nm/A)\n",
    "        J_m = 8.68e-8 #Motor moment of inertia (kgm^2)\n",
    "        b_m = 8.87e-8 #Motor friction (Nms)\n",
    "\n",
    "        P_m = 32 #Internal motor P value\n",
    "        I_m = 0 #Internal motor I value\n",
    "        D_m = 0 #Internal motor D value\n",
    "        Vs = 12 #Source voltage V\n",
    "\n",
    "        Kp_m = P_m/8 * 2048 * Vs/(511*math.pi) #Motor Kp\n",
    "        Ki_m = 1000 * I_m / 2048 * 2048 * Vs/(511*math.pi) #Motor Ki\n",
    "        Kd_m = 4 * D_m / 1000 * 2048 * Vs/(511*math.pi) #Motor Kd\n",
    "\n",
    "        m = 0.077 #Servo mass (kg)\n",
    "        b = 0.0355 #Servo width (m)\n",
    "        h = 0.0244 #Servo height (m)\n",
    "        d = 0.033 + 0.012 #Servo depth (m)\n",
    "        bracket_L = 0.03 #Bracket lenght (m)\n",
    "        gripper_com = 0.03 #Centre of mass of gripper wrt where bracket connects\n",
    "\n",
    "        if servo_type == \"rotation\":\n",
    "            J_l = 2 * m * (b**2 + h**2)/12\n",
    "        elif servo_type == \"flexion\":\n",
    "            J_l = m * (d**2/3 + d * bracket_L + bracket_L**2)\n",
    "        else:\n",
    "            print(\"No type specified\")\n",
    "            J_l = 0\n",
    "            \n",
    "        #Simplified tf (eq 31)\n",
    "        c1 = gear_ratio * gear_eff * K_t\n",
    "        c2 = gear_ratio**2 * gear_eff\n",
    "        n1 = c1 * Kd_m\n",
    "        n2 = c1 * Kp_m\n",
    "        n3 = c1 * Ki_m\n",
    "\n",
    "        d1 = R * (J_l + J_m * c2)\n",
    "        d2 = b_m * c2 * R + K_t * c2 / K_w + c1 * Kd_m\n",
    "        d3 = c1 * Kp_m\n",
    "        d4 = c1 * Ki_m\n",
    "        den = [d1, d2, d3, d4]\n",
    "\n",
    "        self.A = -d2/d1\n",
    "        self.B = -d3/d1\n",
    "        self.C = n2/d1\n",
    "        \n",
    "        self.PID = PID(Kp, Ki, Kd)\n",
    "        self.input_size = 2\n",
    "        self.hidden_layers = [4]\n",
    "        self.output_size = 3\n",
    "        self.nn = NeuralNetwork(self.input_size, self.hidden_layers, self.output_size)\n",
    "        self.stored_nn = None\n",
    "        \n",
    "    #state = [dy, y]\n",
    "    def ode(self, y, t, u):\n",
    "        return (self.A*y[0] + self.B*y[1] + self.C*u, y[0])\n",
    "    \n",
    "    def simulate(self, T, y0, r, d):\n",
    "        self.PID.update_gains(0.32, 0.06, 0.00879, 1.0)\n",
    "        self.PID.reset()\n",
    "        dy = np.zeros(len(T))\n",
    "        y = np.zeros(len(T))\n",
    "        angle = np.zeros(len(T))\n",
    "        dy[0] = y0[0]\n",
    "        y[0] = y0[1]\n",
    "        angle[0] = y[0] * 180/math.pi + 180\n",
    "        t_prev = 0\n",
    "\n",
    "        for i in range(1, len(T)):\n",
    "            t_cur = T[i]\n",
    "\n",
    "            e = r[i] - angle[i-1]\n",
    "\n",
    "            Kp, Ki, Kd = np.absolute(self.nn.predict([e/360, (y[i-1]-(-math.pi))/(math.pi-(-math.pi))]).flatten())\n",
    "            try:\n",
    "                assert not math.isnan(Kp) and not math.isnan(Ki) and not math.isnan(Kd)\n",
    "            except:\n",
    "                print(\"NaN neural network output\")\n",
    "                self.g_angle = np.array(angle)[:i-50]\n",
    "                assert False\n",
    "            self.PID.update_gains(Kp, Ki, Kd, 0.0001)\n",
    "            u = self.PID.update(e, t_cur)\n",
    "            u = u * math.pi/180 + y[i-1]\n",
    "\n",
    "            _, out = odeint(self.ode, [dy[i-1], y[i-1]], [t_prev, t_cur], args=(u,))\n",
    "            \n",
    "            dy[i] = out[0]\n",
    "            y[i] = out[1]\n",
    "            angle[i] = y[i] * 180/math.pi + 180 + d[i] #Add 180 degrees and disturbance to get phi/theta\n",
    "            t_prev = t_cur\n",
    "            \n",
    "        self.nn.reset_recurrence()\n",
    "        return angle\n",
    "    \n",
    "\n",
    "\n",
    "    def compute_jacobian(self, T, y0, r, d):\n",
    "        jacobian = np.empty((len(T), self.nn.total_weights))\n",
    "        index = 0\n",
    "        y1 = rot_servo.simulate(T, y0, r, d)\n",
    "\n",
    "        for weight_type, weight_list in self.nn.weights.items():\n",
    "            for weight_num, weight in enumerate(weight_list):\n",
    "                for i, j in np.ndindex(weight.shape):\n",
    "                    wij = weight[i, j]\n",
    "                                        \n",
    "                    epsilon = max(1, abs(wij)) * math.sqrt(sys.float_info.epsilon)\n",
    "                    self.nn.temp_weight_change(weight_type, weight_num, i ,j, epsilon)\n",
    "                    y2 = rot_servo.simulate(T, y0, r, d)\n",
    "                    \n",
    "                    self.nn.temp_weight_restore()\n",
    "                    \n",
    "                    for t in range(len(T)):\n",
    "                        jacobian[t, index] = (y1[t] - y2[t])/epsilon\n",
    "                    index += 1\n",
    "            \n",
    "        return jacobian, y1\n",
    "    \n",
    "    def store_nn(self):\n",
    "        nn_to_store = NeuralNetwork(self.input_size, self.hidden_layers, self.output_size)\n",
    "        nn_to_store.copy_weights(self.nn)\n",
    "        self.stored_nn = nn_to_store\n",
    "        \n",
    "    def restore_nn(self):\n",
    "        self.nn = self.stored_nn\n",
    "        \n",
    "    "
   ]
  },
  {
   "cell_type": "code",
   "execution_count": 6,
   "metadata": {
    "scrolled": false
   },
   "outputs": [
    {
     "name": "stdout",
     "output_type": "stream",
     "text": [
      "[ 1.76004756e-03 -2.60280916e-03  2.35642558e-02  4.99728323e-03\n",
      " -2.86395057e-01 -3.67125113e-01 -1.21670787e-01 -1.03538340e+00\n",
      " -1.61402698e+00 -6.86215339e-02  3.03705049e-01 -4.44607368e+00\n",
      " -2.08858775e-01  7.85448382e-01 -4.14470185e-01 -3.81099742e-02\n",
      "  9.90298306e-02 -2.23360513e+00 -1.08367263e-01  4.28749406e-01\n",
      " -5.83443434e-01 -7.50396990e-01 -2.09304035e-01 -2.01159630e+00\n",
      " -3.27999650e+00 -1.76075662e-01  5.86996646e-01  0.00000000e+00\n",
      "  0.00000000e+00  0.00000000e+00  0.00000000e+00  0.00000000e+00\n",
      "  0.00000000e+00  0.00000000e+00  0.00000000e+00]\n",
      "Done trial:  0 | sq_error:  1157.8411667041273 | adj_sq_error:  53.40911931364492\n",
      "[ 2.40385872e-04  4.07883669e-04  5.28218456e-04  1.88865632e-04\n",
      "  1.28164574e-01  3.49899939e-01 -1.45426281e-01  1.14629168e-01\n",
      "  8.50102495e-02 -2.78663874e-02  1.22513100e-01 -1.51516240e-01\n",
      "  4.95615864e-02 -2.21968575e-01  5.10164997e-02 -1.65419344e-02\n",
      "  7.45552773e-02  6.78939362e-01 -2.21013389e-01  9.90490408e-01\n",
      "  2.59430337e-01  7.07677595e-01 -2.88195201e-01  2.33383187e-01\n",
      " -3.68879609e-01  1.20034967e-01 -5.36905522e-01  0.00000000e+00\n",
      "  0.00000000e+00  0.00000000e+00  0.00000000e+00  0.00000000e+00\n",
      "  0.00000000e+00  0.00000000e+00  0.00000000e+00]\n",
      "Done trial:  1 | sq_error:  53.40911931364492 | adj_sq_error:  31.048068216485273\n",
      "NaN neural network output\n"
     ]
    },
    {
     "name": "stderr",
     "output_type": "stream",
     "text": [
      "c:\\users\\james\\envs\\slw_env\\lib\\site-packages\\ipykernel_launcher.py:37: RuntimeWarning: overflow encountered in double_scalars\n",
      "c:\\users\\james\\envs\\slw_env\\lib\\site-packages\\ipykernel_launcher.py:44: RuntimeWarning: invalid value encountered in greater\n",
      "c:\\users\\james\\envs\\slw_env\\lib\\site-packages\\ipykernel_launcher.py:48: RuntimeWarning: invalid value encountered in greater\n"
     ]
    },
    {
     "ename": "AssertionError",
     "evalue": "",
     "output_type": "error",
     "traceback": [
      "\u001b[1;31m---------------------------------------------------------------------------\u001b[0m",
      "\u001b[1;31mAssertionError\u001b[0m                            Traceback (most recent call last)",
      "\u001b[1;32m<ipython-input-4-0f0151d1bcda>\u001b[0m in \u001b[0;36msimulate\u001b[1;34m(self, T, y0, r, d)\u001b[0m\n\u001b[0;32m     81\u001b[0m             \u001b[1;32mtry\u001b[0m\u001b[1;33m:\u001b[0m\u001b[1;33m\u001b[0m\u001b[1;33m\u001b[0m\u001b[0m\n\u001b[1;32m---> 82\u001b[1;33m                 \u001b[1;32massert\u001b[0m \u001b[1;32mnot\u001b[0m \u001b[0mmath\u001b[0m\u001b[1;33m.\u001b[0m\u001b[0misnan\u001b[0m\u001b[1;33m(\u001b[0m\u001b[0mKp\u001b[0m\u001b[1;33m)\u001b[0m \u001b[1;32mand\u001b[0m \u001b[1;32mnot\u001b[0m \u001b[0mmath\u001b[0m\u001b[1;33m.\u001b[0m\u001b[0misnan\u001b[0m\u001b[1;33m(\u001b[0m\u001b[0mKi\u001b[0m\u001b[1;33m)\u001b[0m \u001b[1;32mand\u001b[0m \u001b[1;32mnot\u001b[0m \u001b[0mmath\u001b[0m\u001b[1;33m.\u001b[0m\u001b[0misnan\u001b[0m\u001b[1;33m(\u001b[0m\u001b[0mKd\u001b[0m\u001b[1;33m)\u001b[0m\u001b[1;33m\u001b[0m\u001b[1;33m\u001b[0m\u001b[0m\n\u001b[0m\u001b[0;32m     83\u001b[0m             \u001b[1;32mexcept\u001b[0m\u001b[1;33m:\u001b[0m\u001b[1;33m\u001b[0m\u001b[1;33m\u001b[0m\u001b[0m\n",
      "\u001b[1;31mAssertionError\u001b[0m: ",
      "\nDuring handling of the above exception, another exception occurred:\n",
      "\u001b[1;31mAssertionError\u001b[0m                            Traceback (most recent call last)",
      "\u001b[1;32m<ipython-input-6-0cc4f064d95c>\u001b[0m in \u001b[0;36m<module>\u001b[1;34m\u001b[0m\n\u001b[0;32m     36\u001b[0m     \u001b[0mrot_servo\u001b[0m\u001b[1;33m.\u001b[0m\u001b[0mnn\u001b[0m\u001b[1;33m.\u001b[0m\u001b[0madjust_weights\u001b[0m\u001b[1;33m(\u001b[0m\u001b[0madjustment\u001b[0m\u001b[1;33m)\u001b[0m\u001b[1;33m\u001b[0m\u001b[1;33m\u001b[0m\u001b[0m\n\u001b[0;32m     37\u001b[0m     \u001b[1;31m#Simulate with the adjusted weights\u001b[0m\u001b[1;33m\u001b[0m\u001b[1;33m\u001b[0m\u001b[1;33m\u001b[0m\u001b[0m\n\u001b[1;32m---> 38\u001b[1;33m     \u001b[0my_adj\u001b[0m \u001b[1;33m=\u001b[0m \u001b[0mrot_servo\u001b[0m\u001b[1;33m.\u001b[0m\u001b[0msimulate\u001b[0m\u001b[1;33m(\u001b[0m\u001b[0mT\u001b[0m\u001b[1;33m[\u001b[0m\u001b[1;33m:\u001b[0m\u001b[0msamples\u001b[0m\u001b[1;33m]\u001b[0m\u001b[1;33m,\u001b[0m \u001b[0my0\u001b[0m\u001b[1;33m,\u001b[0m \u001b[0mr\u001b[0m\u001b[1;33m[\u001b[0m\u001b[1;33m:\u001b[0m\u001b[0msamples\u001b[0m\u001b[1;33m]\u001b[0m\u001b[1;33m,\u001b[0m \u001b[0md\u001b[0m\u001b[1;33m[\u001b[0m\u001b[1;33m:\u001b[0m\u001b[0msamples\u001b[0m\u001b[1;33m]\u001b[0m\u001b[1;33m)\u001b[0m\u001b[1;33m\u001b[0m\u001b[1;33m\u001b[0m\u001b[0m\n\u001b[0m\u001b[0;32m     39\u001b[0m \u001b[1;33m\u001b[0m\u001b[0m\n\u001b[0;32m     40\u001b[0m     \u001b[1;31m#Calculate squared error of output without weight change\u001b[0m\u001b[1;33m\u001b[0m\u001b[1;33m\u001b[0m\u001b[1;33m\u001b[0m\u001b[0m\n",
      "\u001b[1;32m<ipython-input-4-0f0151d1bcda>\u001b[0m in \u001b[0;36msimulate\u001b[1;34m(self, T, y0, r, d)\u001b[0m\n\u001b[0;32m     84\u001b[0m                 \u001b[0mprint\u001b[0m\u001b[1;33m(\u001b[0m\u001b[1;34m\"NaN neural network output\"\u001b[0m\u001b[1;33m)\u001b[0m\u001b[1;33m\u001b[0m\u001b[1;33m\u001b[0m\u001b[0m\n\u001b[0;32m     85\u001b[0m                 \u001b[0mself\u001b[0m\u001b[1;33m.\u001b[0m\u001b[0mg_angle\u001b[0m \u001b[1;33m=\u001b[0m \u001b[0mnp\u001b[0m\u001b[1;33m.\u001b[0m\u001b[0marray\u001b[0m\u001b[1;33m(\u001b[0m\u001b[0mangle\u001b[0m\u001b[1;33m)\u001b[0m\u001b[1;33m[\u001b[0m\u001b[1;33m:\u001b[0m\u001b[0mi\u001b[0m\u001b[1;33m-\u001b[0m\u001b[1;36m50\u001b[0m\u001b[1;33m]\u001b[0m\u001b[1;33m\u001b[0m\u001b[1;33m\u001b[0m\u001b[0m\n\u001b[1;32m---> 86\u001b[1;33m                 \u001b[1;32massert\u001b[0m \u001b[1;32mFalse\u001b[0m\u001b[1;33m\u001b[0m\u001b[1;33m\u001b[0m\u001b[0m\n\u001b[0m\u001b[0;32m     87\u001b[0m             \u001b[0mself\u001b[0m\u001b[1;33m.\u001b[0m\u001b[0mPID\u001b[0m\u001b[1;33m.\u001b[0m\u001b[0mupdate_gains\u001b[0m\u001b[1;33m(\u001b[0m\u001b[0mKp\u001b[0m\u001b[1;33m,\u001b[0m \u001b[0mKi\u001b[0m\u001b[1;33m,\u001b[0m \u001b[0mKd\u001b[0m\u001b[1;33m,\u001b[0m \u001b[1;36m0.0001\u001b[0m\u001b[1;33m)\u001b[0m\u001b[1;33m\u001b[0m\u001b[1;33m\u001b[0m\u001b[0m\n\u001b[0;32m     88\u001b[0m             \u001b[0mu\u001b[0m \u001b[1;33m=\u001b[0m \u001b[0mself\u001b[0m\u001b[1;33m.\u001b[0m\u001b[0mPID\u001b[0m\u001b[1;33m.\u001b[0m\u001b[0mupdate\u001b[0m\u001b[1;33m(\u001b[0m\u001b[0me\u001b[0m\u001b[1;33m,\u001b[0m \u001b[0mt_cur\u001b[0m\u001b[1;33m)\u001b[0m\u001b[1;33m\u001b[0m\u001b[1;33m\u001b[0m\u001b[0m\n",
      "\u001b[1;31mAssertionError\u001b[0m: "
     ]
    }
   ],
   "source": [
    "rot_servo = Servo(\"rotation\", 0.32, 0.06, 0.00879)\n",
    "\n",
    "dt = 0.005\n",
    "T = np.arange(0, 5, dt)\n",
    "simulation_length = len(T)\n",
    "samples = simulation_length\n",
    "\n",
    "r = np.array(T)\n",
    "r[:] = 180\n",
    "# d = np.sin(4*T)\n",
    "d = np.array(T)\n",
    "interval = len(T)/10\n",
    "\n",
    "d_val = 0\n",
    "for t in range(len(T)):\n",
    "    if t % interval == 0 and t != 0:\n",
    "        d_val = 0 if d_val == 1 else 1\n",
    "    d[t] = d_val\n",
    "    \n",
    "y0 = [0, 0]\n",
    "damping_factor = 1\n",
    "\n",
    "for trials in range(10):\n",
    "    #Compute jacobian\n",
    "    J, y = rot_servo.compute_jacobian(T[:samples], y0, r, d) \n",
    "    #Get error of output without weight change\n",
    "    error = y - r[:samples] \n",
    "\n",
    "    #Compute adjustment amount\n",
    "    A = np.matmul(np.transpose(J), J) + damping_factor * np.identity(J.shape[1])\n",
    "    B = np.matmul(np.transpose(J), (error))\n",
    "    adjustment = np.matmul(np.linalg.inv(A), B) \n",
    "\n",
    "    #Store a copy of the current neural network before adjusting the weights\n",
    "    rot_servo.store_nn()\n",
    "    rot_servo.nn.adjust_weights(adjustment)\n",
    "    #Simulate with the adjusted weights\n",
    "    y_adj = rot_servo.simulate(T[:samples], y0, r[:samples], d[:samples]) \n",
    "\n",
    "    #Calculate squared error of output without weight change\n",
    "    sq_error = np.sum(np.square(error))\n",
    "    #Calculate squared error of output with weight change\n",
    "    adj_sq_error = np.sum(np.square(y_adj - r[:samples])) \n",
    "\n",
    "    if adj_sq_error < sq_error:\n",
    "        #If squared error with weight change is better, half damping factor and keep new weights\n",
    "        damping_factor = damping_factor/2 \n",
    "    else:\n",
    "        #If not better, double damping factor and restore old weights (from our stored copy)\n",
    "        damping_factor = 2 * damping_factor\n",
    "        rot_servo.restore_nn()\n",
    "    print(adjustment)\n",
    "    print(\"Done trial: \", trials, \"| sq_error: \", sq_error, \"| adj_sq_error: \", adj_sq_error)\n",
    "\n",
    "plt.plot(y)\n",
    "plt.plot(r[:samples])\n",
    "plt.plot(d[:samples] + 180)"
   ]
  },
  {
   "cell_type": "code",
   "execution_count": 91,
   "metadata": {},
   "outputs": [
    {
     "data": {
      "text/plain": [
       "[<matplotlib.lines.Line2D at 0x1f52d055fc8>]"
      ]
     },
     "execution_count": 91,
     "metadata": {},
     "output_type": "execute_result"
    },
    {
     "data": {
      "image/png": "[encoded data removed]",
      "text/plain": [
       "<Figure size 432x288 with 1 Axes>"
      ]
     },
     "metadata": {
      "needs_background": "light"
     },
     "output_type": "display_data"
    }
   ],
   "source": [
    "plt.plot(r[:samples])\n",
    "plt.plot(d[:samples] + 180)\n",
    "plt.plot(y)"
   ]
  },
  {
   "cell_type": "code",
   "execution_count": 7,
   "metadata": {},
   "outputs": [
    {
     "data": {
      "text/plain": [
       "[<matplotlib.lines.Line2D at 0x1729b8ec408>]"
      ]
     },
     "execution_count": 7,
     "metadata": {},
     "output_type": "execute_result"
    },
    {
     "data": {
      "image/png": "[encoded data removed]",
      "text/plain": [
       "<Figure size 432x288 with 1 Axes>"
      ]
     },
     "metadata": {
      "needs_background": "light"
     },
     "output_type": "display_data"
    }
   ],
   "source": [
    "plt.plot(rot_servo.g_angle)"
   ]
  },
  {
   "cell_type": "code",
   "execution_count": 52,
   "metadata": {
    "scrolled": true
   },
   "outputs": [
    {
     "data": {
      "text/plain": [
       "[<matplotlib.lines.Line2D at 0x1f52bc179c8>]"
      ]
     },
     "execution_count": 52,
     "metadata": {},
     "output_type": "execute_result"
    },
    {
     "data": {
      "image/png": "[encoded data removed]",
      "text/plain": [
       "<Figure size 432x288 with 1 Axes>"
      ]
     },
     "metadata": {
      "needs_background": "light"
     },
     "output_type": "display_data"
    }
   ],
   "source": [
    "y_test = rot_servo.simulate(T, y0, r, d) \n",
    "plt.plot(y_test)"
   ]
  },
  {
   "cell_type": "code",
   "execution_count": null,
   "metadata": {},
   "outputs": [],
   "source": [
    "#check servo speed in real\n",
    "#voltage saturation (Non linear behaviour)\n",
    "#how do you not instantly have unstable output"
   ]
  }
 ],
 "metadata": {
  "kernelspec": {
   "display_name": "Python 3",
   "language": "python",
   "name": "python3"
  },
  "language_info": {
   "codemirror_mode": {
    "name": "ipython",
    "version": 3
   },
   "file_extension": ".py",
   "mimetype": "text/x-python",
   "name": "python",
   "nbconvert_exporter": "python",
   "pygments_lexer": "ipython3",
   "version": "3.7.4"
  }
 },
 "nbformat": 4,
 "nbformat_minor": 2
}
